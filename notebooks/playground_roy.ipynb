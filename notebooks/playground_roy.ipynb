{
 "cells": [
  {
   "cell_type": "code",
   "execution_count": 130,
   "id": "initial_id",
   "metadata": {
    "collapsed": true,
    "ExecuteTime": {
     "end_time": "2023-10-28T14:04:24.908638232Z",
     "start_time": "2023-10-28T14:04:24.815162357Z"
    }
   },
   "outputs": [],
   "source": [
    "import time\n",
    "import numpy as np\n",
    "from sklearn.metrics.pairwise import cosine_similarity\n",
    "import collections\n"
   ]
  },
  {
   "cell_type": "code",
   "execution_count": 130,
   "outputs": [],
   "source": [],
   "metadata": {
    "collapsed": false,
    "ExecuteTime": {
     "end_time": "2023-10-28T14:04:25.042739489Z",
     "start_time": "2023-10-28T14:04:24.829061740Z"
    }
   },
   "id": "3b50d41a9f16ce5b"
  },
  {
   "cell_type": "code",
   "execution_count": 130,
   "outputs": [],
   "source": [],
   "metadata": {
    "collapsed": false,
    "ExecuteTime": {
     "end_time": "2023-10-28T14:04:25.087672011Z",
     "start_time": "2023-10-28T14:04:24.837109449Z"
    }
   },
   "id": "65d0fd8af0d27c74"
  },
  {
   "cell_type": "markdown",
   "source": [
    "# The Matcher for later, not that important rn"
   ],
   "metadata": {
    "collapsed": false
   },
   "id": "e0ab0a4102233f4b"
  },
  {
   "cell_type": "code",
   "execution_count": 131,
   "outputs": [],
   "source": [
    "# from matching import Player\n",
    "# \n",
    "# players = [\n",
    "#     Player(\"jerry\"),\n",
    "#     Player(\"george\"),\n",
    "#     Player(\"kramer\"),\n",
    "#     Player(\"elaine\"),\n",
    "# ]\n",
    "# jerry, george, elaine, kramer = players\n",
    "# \n",
    "# jerry.set_prefs([george, elaine, kramer])\n",
    "# george.set_prefs([jerry, kramer, elaine])\n",
    "# elaine.set_prefs([jerry, kramer, george])\n",
    "# kramer.set_prefs([elaine, george, jerry])\n",
    "# from matching.games import StableRoommates\n",
    "# \n",
    "# game = StableRoommates(players)\n",
    "# game.solve()"
   ],
   "metadata": {
    "collapsed": false,
    "ExecuteTime": {
     "end_time": "2023-10-28T14:04:25.098608082Z",
     "start_time": "2023-10-28T14:04:24.842993846Z"
    }
   },
   "id": "6b884d2e66086451"
  },
  {
   "cell_type": "markdown",
   "source": [
    "# Calculate the similarity of preferences"
   ],
   "metadata": {
    "collapsed": false
   },
   "id": "438cb1c08ac04b78"
  },
  {
   "cell_type": "markdown",
   "source": [
    "## Pereference Matrix\n",
    "One row is the activity rating of a user\n",
    "Each column is an activity"
   ],
   "metadata": {
    "collapsed": false
   },
   "id": "1990663a33791ccf"
  },
  {
   "cell_type": "code",
   "execution_count": 132,
   "outputs": [
    {
     "name": "stdout",
     "output_type": "stream",
     "text": [
      "Size of the matrix: 24 bytes\n"
     ]
    }
   ],
   "source": [
    "\n",
    "users = ['Snake','Panda','Tree','Dolphin']\n",
    "preference_matrix = np.array([\n",
    "    [1, 2, 3, 3, 1, 2],\n",
    "    [1, 2, 4, 5, 1, 1],\n",
    "    [5, 5, 3, 0, 5, 1],\n",
    "    [5, 3, 2, 0, 4, 1]\n",
    "], dtype='uint8')\n",
    "size_in_bytes = preference_matrix.nbytes\n",
    "print(f\"Size of the matrix: {size_in_bytes} bytes\")"
   ],
   "metadata": {
    "collapsed": false,
    "ExecuteTime": {
     "end_time": "2023-10-28T14:04:25.210124074Z",
     "start_time": "2023-10-28T14:04:24.849016973Z"
    }
   },
   "id": "26b37c1f39e49260"
  },
  {
   "cell_type": "markdown",
   "source": [
    "Create Huge Matrix to stress test"
   ],
   "metadata": {
    "collapsed": false
   },
   "id": "69d4e46513249370"
  },
  {
   "cell_type": "code",
   "execution_count": 133,
   "outputs": [],
   "source": [
    "# num_users = 10000\n",
    "# num_preferences = 10000\n",
    "# huge_matrix = np.random.randint(0, 256, size=(num_users, num_preferences), dtype=np.uint8)\n",
    "# \n",
    "# preference_matrix = huge_matrix\n",
    "# \n",
    "# size_in_bytes = huge_matrix.nbytes\n",
    "# size_in_gb = size_in_bytes / (1024**3)\n",
    "# \n",
    "# print(f\"Size of the matrix: {size_in_gb:.2f} GB\")"
   ],
   "metadata": {
    "collapsed": false,
    "ExecuteTime": {
     "end_time": "2023-10-28T14:04:25.269208569Z",
     "start_time": "2023-10-28T14:04:24.857390123Z"
    }
   },
   "id": "c317ebd2293a265e"
  },
  {
   "cell_type": "markdown",
   "source": [
    "## Manual Cos Calc\n",
    "May come in useful later, when we want to calculate it on a per user basis"
   ],
   "metadata": {
    "collapsed": false
   },
   "id": "1e711e8b0eb75d35"
  },
  {
   "cell_type": "code",
   "execution_count": 134,
   "outputs": [],
   "source": [
    "# def cosine_similarity(matrix):\n",
    "#     dot_product = np.dot(matrix, matrix.T)\n",
    "#     #print(dot_product)\n",
    "#     norms = np.linalg.norm(matrix, axis=1)\n",
    "#     # print(norms)\n",
    "#     cosine_sim = dot_product / (np.outer(norms, norms))\n",
    "#     return cosine_sim\n",
    "# \n",
    "# \n",
    "# start_time = time.time()\n",
    "# cosine_sim_matrix = cosine_similarity(preference_matrix)\n",
    "# end_time = time.time()\n",
    "# elapsed_time = end_time - start_time\n",
    "# print(f\"Elapsed time: {elapsed_time} seconds\")\n",
    "# # Print the cosine similarity matrix\n",
    "# print(cosine_sim_matrix)\n"
   ],
   "metadata": {
    "collapsed": false,
    "ExecuteTime": {
     "end_time": "2023-10-28T14:04:25.393614668Z",
     "start_time": "2023-10-28T14:04:24.864001297Z"
    }
   },
   "id": "42c007d8220de103"
  },
  {
   "cell_type": "markdown",
   "source": [
    "## Use sklearn to Cos Calc"
   ],
   "metadata": {
    "collapsed": false
   },
   "id": "4e9181237d3af1a3"
  },
  {
   "cell_type": "code",
   "execution_count": 135,
   "outputs": [
    {
     "name": "stdout",
     "output_type": "stream",
     "text": [
      "Elapsed time: 0.001172 seconds\n",
      "[[1.         0.95470327 0.63543805 0.58609427]\n",
      " [0.95470327 1.         0.51663504 0.46709937]\n",
      " [0.63543805 0.51663504 1.         0.97990505]\n",
      " [0.58609427 0.46709937 0.97990505 1.        ]]\n"
     ]
    }
   ],
   "source": [
    "start_time = time.time()\n",
    "\n",
    "cosine_sim_matrix = cosine_similarity(preference_matrix)\n",
    "end_time = time.time()\n",
    "\n",
    "elapsed_time = end_time - start_time\n",
    "print(f\"Elapsed time: {np.round(elapsed_time,6)} seconds\")\n",
    "\n",
    "\n",
    "print(cosine_sim_matrix)\n"
   ],
   "metadata": {
    "collapsed": false,
    "ExecuteTime": {
     "end_time": "2023-10-28T14:04:25.582628651Z",
     "start_time": "2023-10-28T14:04:24.875573640Z"
    }
   },
   "id": "18d5b71c249a74dc"
  },
  {
   "cell_type": "markdown",
   "source": [
    "## Interpret the result\n",
    "With words..."
   ],
   "metadata": {
    "collapsed": false
   },
   "id": "324b46088612c4f3"
  },
  {
   "cell_type": "code",
   "execution_count": 136,
   "outputs": [
    {
     "name": "stdout",
     "output_type": "stream",
     "text": [
      "Higher Score = Better\n",
      "User Snake gets along with:\n",
      "> user Snake: 0.9999999999999999\n",
      "> user Panda: 0.9547032697824668\n",
      "> user Tree: 0.6354380478103605\n",
      "> user Dolphin: 0.5860942701532693\n",
      "User Panda gets along with:\n",
      "> user Snake: 0.9547032697824668\n",
      "> user Panda: 1.0000000000000002\n",
      "> user Tree: 0.5166350401452484\n",
      "> user Dolphin: 0.46709936649691386\n",
      "User Tree gets along with:\n",
      "> user Snake: 0.6354380478103605\n",
      "> user Panda: 0.5166350401452484\n",
      "> user Tree: 0.9999999999999998\n",
      "> user Dolphin: 0.9799050483303551\n",
      "User Dolphin gets along with:\n",
      "> user Snake: 0.5860942701532693\n",
      "> user Panda: 0.46709936649691386\n",
      "> user Tree: 0.9799050483303551\n",
      "> user Dolphin: 0.9999999999999999\n"
     ]
    }
   ],
   "source": [
    "print('Higher Score = Better')\n",
    "\n",
    "for i, user_pref in enumerate(cosine_sim_matrix):\n",
    "    print(f'User {users[i]} gets along with:')\n",
    "    for j, partner_score in enumerate(user_pref):\n",
    "        print(f\"> user {users[j]}: {partner_score}\")\n",
    "        \n"
   ],
   "metadata": {
    "collapsed": false,
    "ExecuteTime": {
     "end_time": "2023-10-28T14:04:25.583708136Z",
     "start_time": "2023-10-28T14:04:24.919691689Z"
    }
   },
   "id": "4c43837fa4f45e75"
  },
  {
   "cell_type": "code",
   "execution_count": 137,
   "outputs": [],
   "source": [
    "# preference_list = {}\n",
    "# \n",
    "# for i, user_pref in enumerate(cosine_sim_matrix):\n",
    "#     print(f\"list for {users[i]}\")\n",
    "#     the_list = {score:users[j] for j, score in enumerate(user_pref) if j != i} # j != i If its not the user itself\n",
    "#     print(f'unsorted {the_list}')\n",
    "#     sorted_list = dict(sorted(the_list.items(), reverse=True))\n",
    "#     print(f'sorted {sorted_list}')\n",
    "#     final_list = list(sorted_list.values())\n",
    "#     print(final_list)\n",
    "#     preference_list[users[i]] = final_list\n",
    "#     print('======')\n",
    "# \n",
    "# preference_list\n"
   ],
   "metadata": {
    "collapsed": false,
    "ExecuteTime": {
     "end_time": "2023-10-28T14:04:25.584040088Z",
     "start_time": "2023-10-28T14:04:24.920109052Z"
    }
   },
   "id": "f5af822fe25d115"
  },
  {
   "cell_type": "markdown",
   "source": [
    "## Cleaned Functions\n",
    "Use these to actually implement it"
   ],
   "metadata": {
    "collapsed": false
   },
   "id": "922e318bc1a440d5"
  },
  {
   "cell_type": "code",
   "execution_count": 142,
   "outputs": [],
   "source": [
    "\n",
    "def get_sorted_list_func(users, user_preferences):\n",
    "    def get_sorted_list(user_id):\n",
    "        user_score_list = {users[partner_id]:score for partner_id, score in enumerate(user_preferences[user_id]) if partner_id != user_id}\n",
    "        user_score_ordered = collections.OrderedDict(sorted(user_score_list.items(), key=lambda item: item[1], reverse=True))\n",
    "        return list(user_score_ordered)\n",
    "    return get_sorted_list\n",
    "\n",
    "def check_input(users, preference_matrix):\n",
    "    user_limit = 10000\n",
    "    if len(users)>user_limit or len(preference_matrix)>user_limit:\n",
    "        raise ValueError(f\"The user limit is {user_limit}\")\n",
    "    if len(users) != len(preference_matrix):\n",
    "        raise ValueError(f\"user list and matrix length do not match\")\n",
    "    if len(users) != len(set(users)):\n",
    "        raise ValueError(f\"Duplicates exist in the users array\")\n",
    "\n",
    "\n",
    "def get_preference_lists(users, preference_matrix):\n",
    "    check_input(users, preference_matrix)\n",
    "\n",
    "    user_preferences = cosine_similarity(preference_matrix)\n",
    "    \n",
    "    get_sorted_list = get_sorted_list_func(users, user_preferences)\n",
    "    return {user_name:get_sorted_list(user_id) for user_id, user_name in enumerate(users)}\n",
    "\n",
    "\n",
    "\n"
   ],
   "metadata": {
    "collapsed": false,
    "ExecuteTime": {
     "end_time": "2023-10-28T14:06:52.661219727Z",
     "start_time": "2023-10-28T14:06:52.646138071Z"
    }
   },
   "id": "bfe55b16c578ab43"
  },
  {
   "cell_type": "code",
   "execution_count": 142,
   "outputs": [],
   "source": [],
   "metadata": {
    "collapsed": false,
    "ExecuteTime": {
     "end_time": "2023-10-28T14:06:52.974328067Z",
     "start_time": "2023-10-28T14:06:52.965735164Z"
    }
   },
   "id": "8a9f14fee1d3131b"
  },
  {
   "cell_type": "markdown",
   "source": [
    "## Use the Functions"
   ],
   "metadata": {
    "collapsed": false
   },
   "id": "fea236bf9a26b451"
  },
  {
   "cell_type": "code",
   "execution_count": 145,
   "outputs": [
    {
     "name": "stdout",
     "output_type": "stream",
     "text": [
      "Size of the matrix: 42 bytes\n"
     ]
    },
    {
     "data": {
      "text/plain": "{'Snake': ['Panda', 'Dolphin', 'Table 16', 'Tree', 'Basel', 'Water'],\n 'Panda': ['Snake', 'Dolphin', 'Table 16', 'Basel', 'Tree', 'Water'],\n 'Tree': ['Basel', 'Table 16', 'Water', 'Snake', 'Dolphin', 'Panda'],\n 'Dolphin': ['Table 16', 'Snake', 'Panda', 'Tree', 'Basel', 'Water'],\n 'Water': ['Tree', 'Table 16', 'Basel', 'Dolphin', 'Snake', 'Panda'],\n 'Basel': ['Tree', 'Table 16', 'Water', 'Snake', 'Panda', 'Dolphin'],\n 'Table 16': ['Basel', 'Tree', 'Dolphin', 'Snake', 'Water', 'Panda']}"
     },
     "execution_count": 145,
     "metadata": {},
     "output_type": "execute_result"
    }
   ],
   "source": [
    "\n",
    "users = ['Snake','Panda','Tree','Dolphin','Water','Basel','Table 16']\n",
    "preference_matrix = np.array([\n",
    "    [1, 2, 3, 3, 1, 2],\n",
    "    [1, 2, 4, 5, 1, 1],\n",
    "    [5, 5, 3, 0, 5, 1],\n",
    "    [0, 1, 1, 0, 0, 1],\n",
    "    [5, 5, 0, 0, 1, 1],\n",
    "    [4, 3, 3, 0, 5, 1],\n",
    "    [1, 1, 1, 0, 1, 1]\n",
    "], dtype='uint8')\n",
    "size_in_bytes = preference_matrix.nbytes\n",
    "print(f\"Size of the matrix: {size_in_bytes} bytes\")\n",
    "\n",
    "get_preference_lists(users, preference_matrix)\n",
    "\n"
   ],
   "metadata": {
    "collapsed": false,
    "ExecuteTime": {
     "end_time": "2023-10-28T14:07:02.269162415Z",
     "start_time": "2023-10-28T14:07:02.232973432Z"
    }
   },
   "id": "7302285b5d9034d2"
  },
  {
   "cell_type": "code",
   "execution_count": 145,
   "outputs": [],
   "source": [],
   "metadata": {
    "collapsed": false,
    "ExecuteTime": {
     "end_time": "2023-10-28T14:07:02.416351107Z",
     "start_time": "2023-10-28T14:07:02.373233873Z"
    }
   },
   "id": "a8a6628dba1b9186"
  },
  {
   "cell_type": "code",
   "execution_count": 139,
   "outputs": [],
   "source": [],
   "metadata": {
    "collapsed": false,
    "ExecuteTime": {
     "end_time": "2023-10-28T14:04:25.586091206Z",
     "start_time": "2023-10-28T14:04:24.964194864Z"
    }
   },
   "id": "ff595b57e15371f3"
  },
  {
   "cell_type": "code",
   "execution_count": 139,
   "outputs": [],
   "source": [],
   "metadata": {
    "collapsed": false,
    "ExecuteTime": {
     "end_time": "2023-10-28T14:04:25.586280030Z",
     "start_time": "2023-10-28T14:04:24.964278509Z"
    }
   },
   "id": "9a29c81b1b0669ff"
  },
  {
   "cell_type": "code",
   "execution_count": 139,
   "outputs": [],
   "source": [],
   "metadata": {
    "collapsed": false,
    "ExecuteTime": {
     "end_time": "2023-10-28T14:04:25.586838959Z",
     "start_time": "2023-10-28T14:04:24.964357291Z"
    }
   },
   "id": "37468ad06e3338a6"
  },
  {
   "cell_type": "code",
   "execution_count": 139,
   "outputs": [],
   "source": [],
   "metadata": {
    "collapsed": false,
    "ExecuteTime": {
     "end_time": "2023-10-28T14:04:25.592761126Z",
     "start_time": "2023-10-28T14:04:25.007763875Z"
    }
   },
   "id": "834dfbfe0b60cb0b"
  },
  {
   "cell_type": "code",
   "execution_count": 139,
   "outputs": [],
   "source": [],
   "metadata": {
    "collapsed": false,
    "ExecuteTime": {
     "end_time": "2023-10-28T14:04:25.593216719Z",
     "start_time": "2023-10-28T14:04:25.008159311Z"
    }
   },
   "id": "4180d228b79f25f3"
  },
  {
   "cell_type": "code",
   "execution_count": 139,
   "outputs": [],
   "source": [],
   "metadata": {
    "collapsed": false,
    "ExecuteTime": {
     "end_time": "2023-10-28T14:04:25.593384377Z",
     "start_time": "2023-10-28T14:04:25.008359499Z"
    }
   },
   "id": "96ddc60b5e5f3caa"
  }
 ],
 "metadata": {
  "kernelspec": {
   "display_name": "Python 3",
   "language": "python",
   "name": "python3"
  },
  "language_info": {
   "codemirror_mode": {
    "name": "ipython",
    "version": 2
   },
   "file_extension": ".py",
   "mimetype": "text/x-python",
   "name": "python",
   "nbconvert_exporter": "python",
   "pygments_lexer": "ipython2",
   "version": "2.7.6"
  }
 },
 "nbformat": 4,
 "nbformat_minor": 5
}
