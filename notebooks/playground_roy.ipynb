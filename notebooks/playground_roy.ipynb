{
 "cells": [
  {
   "cell_type": "code",
   "execution_count": 160,
   "id": "initial_id",
   "metadata": {
    "collapsed": true,
    "ExecuteTime": {
     "end_time": "2023-10-28T14:30:58.605154731Z",
     "start_time": "2023-10-28T14:30:58.600814244Z"
    }
   },
   "outputs": [],
   "source": [
    "import time\n",
    "import numpy as np\n",
    "from sklearn.metrics.pairwise import cosine_similarity\n",
    "import collections\n",
    "from matching import Player\n",
    "from matching.games import StableRoommates\n"
   ]
  },
  {
   "cell_type": "code",
   "execution_count": 130,
   "outputs": [],
   "source": [],
   "metadata": {
    "collapsed": false,
    "ExecuteTime": {
     "end_time": "2023-10-28T14:04:25.042739489Z",
     "start_time": "2023-10-28T14:04:24.829061740Z"
    }
   },
   "id": "3b50d41a9f16ce5b"
  },
  {
   "cell_type": "code",
   "execution_count": 130,
   "outputs": [],
   "source": [],
   "metadata": {
    "collapsed": false,
    "ExecuteTime": {
     "end_time": "2023-10-28T14:04:25.087672011Z",
     "start_time": "2023-10-28T14:04:24.837109449Z"
    }
   },
   "id": "65d0fd8af0d27c74"
  },
  {
   "cell_type": "markdown",
   "source": [
    "# Calculate the similarity of preferences"
   ],
   "metadata": {
    "collapsed": false
   },
   "id": "438cb1c08ac04b78"
  },
  {
   "cell_type": "markdown",
   "source": [
    "## Pereference Matrix\n",
    "One row is the activity rating of a user\n",
    "Each column is an activity"
   ],
   "metadata": {
    "collapsed": false
   },
   "id": "1990663a33791ccf"
  },
  {
   "cell_type": "code",
   "execution_count": 132,
   "outputs": [
    {
     "name": "stdout",
     "output_type": "stream",
     "text": [
      "Size of the matrix: 24 bytes\n"
     ]
    }
   ],
   "source": [
    "\n",
    "users = ['Snake','Panda','Tree','Dolphin']\n",
    "preference_matrix = np.array([\n",
    "    [1, 2, 3, 3, 1, 2],\n",
    "    [1, 2, 4, 5, 1, 1],\n",
    "    [5, 5, 3, 0, 5, 1],\n",
    "    [5, 3, 2, 0, 4, 1]\n",
    "], dtype='uint8')\n",
    "size_in_bytes = preference_matrix.nbytes\n",
    "print(f\"Size of the matrix: {size_in_bytes} bytes\")"
   ],
   "metadata": {
    "collapsed": false,
    "ExecuteTime": {
     "end_time": "2023-10-28T14:04:25.210124074Z",
     "start_time": "2023-10-28T14:04:24.849016973Z"
    }
   },
   "id": "26b37c1f39e49260"
  },
  {
   "cell_type": "markdown",
   "source": [
    "Create Huge Matrix to stress test"
   ],
   "metadata": {
    "collapsed": false
   },
   "id": "69d4e46513249370"
  },
  {
   "cell_type": "code",
   "execution_count": 133,
   "outputs": [],
   "source": [
    "# num_users = 10000\n",
    "# num_preferences = 10000\n",
    "# huge_matrix = np.random.randint(0, 256, size=(num_users, num_preferences), dtype=np.uint8)\n",
    "# \n",
    "# preference_matrix = huge_matrix\n",
    "# \n",
    "# size_in_bytes = huge_matrix.nbytes\n",
    "# size_in_gb = size_in_bytes / (1024**3)\n",
    "# \n",
    "# print(f\"Size of the matrix: {size_in_gb:.2f} GB\")"
   ],
   "metadata": {
    "collapsed": false,
    "ExecuteTime": {
     "end_time": "2023-10-28T14:04:25.269208569Z",
     "start_time": "2023-10-28T14:04:24.857390123Z"
    }
   },
   "id": "c317ebd2293a265e"
  },
  {
   "cell_type": "markdown",
   "source": [
    "## Manual Cos Calc\n",
    "May come in useful later, when we want to calculate it on a per user basis"
   ],
   "metadata": {
    "collapsed": false
   },
   "id": "1e711e8b0eb75d35"
  },
  {
   "cell_type": "code",
   "execution_count": 134,
   "outputs": [],
   "source": [
    "# def cosine_similarity(matrix):\n",
    "#     dot_product = np.dot(matrix, matrix.T)\n",
    "#     #print(dot_product)\n",
    "#     norms = np.linalg.norm(matrix, axis=1)\n",
    "#     # print(norms)\n",
    "#     cosine_sim = dot_product / (np.outer(norms, norms))\n",
    "#     return cosine_sim\n",
    "# \n",
    "# \n",
    "# start_time = time.time()\n",
    "# cosine_sim_matrix = cosine_similarity(preference_matrix)\n",
    "# end_time = time.time()\n",
    "# elapsed_time = end_time - start_time\n",
    "# print(f\"Elapsed time: {elapsed_time} seconds\")\n",
    "# # Print the cosine similarity matrix\n",
    "# print(cosine_sim_matrix)\n"
   ],
   "metadata": {
    "collapsed": false,
    "ExecuteTime": {
     "end_time": "2023-10-28T14:04:25.393614668Z",
     "start_time": "2023-10-28T14:04:24.864001297Z"
    }
   },
   "id": "42c007d8220de103"
  },
  {
   "cell_type": "markdown",
   "source": [
    "## Use sklearn to Cos Calc"
   ],
   "metadata": {
    "collapsed": false
   },
   "id": "4e9181237d3af1a3"
  },
  {
   "cell_type": "code",
   "execution_count": 135,
   "outputs": [
    {
     "name": "stdout",
     "output_type": "stream",
     "text": [
      "Elapsed time: 0.001172 seconds\n",
      "[[1.         0.95470327 0.63543805 0.58609427]\n",
      " [0.95470327 1.         0.51663504 0.46709937]\n",
      " [0.63543805 0.51663504 1.         0.97990505]\n",
      " [0.58609427 0.46709937 0.97990505 1.        ]]\n"
     ]
    }
   ],
   "source": [
    "start_time = time.time()\n",
    "\n",
    "cosine_sim_matrix = cosine_similarity(preference_matrix)\n",
    "end_time = time.time()\n",
    "\n",
    "elapsed_time = end_time - start_time\n",
    "print(f\"Elapsed time: {np.round(elapsed_time,6)} seconds\")\n",
    "\n",
    "\n",
    "print(cosine_sim_matrix)\n"
   ],
   "metadata": {
    "collapsed": false,
    "ExecuteTime": {
     "end_time": "2023-10-28T14:04:25.582628651Z",
     "start_time": "2023-10-28T14:04:24.875573640Z"
    }
   },
   "id": "18d5b71c249a74dc"
  },
  {
   "cell_type": "markdown",
   "source": [
    "## Interpret the result\n",
    "With words..."
   ],
   "metadata": {
    "collapsed": false
   },
   "id": "324b46088612c4f3"
  },
  {
   "cell_type": "code",
   "execution_count": 136,
   "outputs": [
    {
     "name": "stdout",
     "output_type": "stream",
     "text": [
      "Higher Score = Better\n",
      "User Snake gets along with:\n",
      "> user Snake: 0.9999999999999999\n",
      "> user Panda: 0.9547032697824668\n",
      "> user Tree: 0.6354380478103605\n",
      "> user Dolphin: 0.5860942701532693\n",
      "User Panda gets along with:\n",
      "> user Snake: 0.9547032697824668\n",
      "> user Panda: 1.0000000000000002\n",
      "> user Tree: 0.5166350401452484\n",
      "> user Dolphin: 0.46709936649691386\n",
      "User Tree gets along with:\n",
      "> user Snake: 0.6354380478103605\n",
      "> user Panda: 0.5166350401452484\n",
      "> user Tree: 0.9999999999999998\n",
      "> user Dolphin: 0.9799050483303551\n",
      "User Dolphin gets along with:\n",
      "> user Snake: 0.5860942701532693\n",
      "> user Panda: 0.46709936649691386\n",
      "> user Tree: 0.9799050483303551\n",
      "> user Dolphin: 0.9999999999999999\n"
     ]
    }
   ],
   "source": [
    "print('Higher Score = Better')\n",
    "\n",
    "for i, user_pref in enumerate(cosine_sim_matrix):\n",
    "    print(f'User {users[i]} gets along with:')\n",
    "    for j, partner_score in enumerate(user_pref):\n",
    "        print(f\"> user {users[j]}: {partner_score}\")\n",
    "        \n"
   ],
   "metadata": {
    "collapsed": false,
    "ExecuteTime": {
     "end_time": "2023-10-28T14:04:25.583708136Z",
     "start_time": "2023-10-28T14:04:24.919691689Z"
    }
   },
   "id": "4c43837fa4f45e75"
  },
  {
   "cell_type": "code",
   "execution_count": 137,
   "outputs": [],
   "source": [
    "# preference_list = {}\n",
    "# \n",
    "# for i, user_pref in enumerate(cosine_sim_matrix):\n",
    "#     print(f\"list for {users[i]}\")\n",
    "#     the_list = {score:users[j] for j, score in enumerate(user_pref) if j != i} # j != i If its not the user itself\n",
    "#     print(f'unsorted {the_list}')\n",
    "#     sorted_list = dict(sorted(the_list.items(), reverse=True))\n",
    "#     print(f'sorted {sorted_list}')\n",
    "#     final_list = list(sorted_list.values())\n",
    "#     print(final_list)\n",
    "#     preference_list[users[i]] = final_list\n",
    "#     print('======')\n",
    "# \n",
    "# preference_list\n"
   ],
   "metadata": {
    "collapsed": false,
    "ExecuteTime": {
     "end_time": "2023-10-28T14:04:25.584040088Z",
     "start_time": "2023-10-28T14:04:24.920109052Z"
    }
   },
   "id": "f5af822fe25d115"
  },
  {
   "cell_type": "markdown",
   "source": [
    "## Generate Users"
   ],
   "metadata": {
    "collapsed": false
   },
   "id": "80bc5734f2764d55"
  },
  {
   "cell_type": "code",
   "execution_count": null,
   "outputs": [],
   "source": [
    "\n",
    "\n",
    "\n"
   ],
   "metadata": {
    "collapsed": false
   },
   "id": "5a714455fba00efa"
  },
  {
   "cell_type": "markdown",
   "source": [
    "## Cleaned Functions\n",
    "Use these to actually implement it"
   ],
   "metadata": {
    "collapsed": false
   },
   "id": "922e318bc1a440d5"
  },
  {
   "cell_type": "code",
   "execution_count": 166,
   "outputs": [],
   "source": [
    "\n",
    "def get_sorted_list_func(users, user_preferences):\n",
    "    def get_sorted_list(user_index):\n",
    "        user_score_list = {users[partner_id]:score for partner_id, score in enumerate(user_preferences[user_index]) if partner_id != user_index}\n",
    "        user_score_ordered = collections.OrderedDict(sorted(user_score_list.items(), key=lambda item: item[1], reverse=True))\n",
    "        return list(user_score_ordered)\n",
    "    return get_sorted_list\n",
    "\n",
    "def check_input(users, preference_matrix):\n",
    "    user_limit = 10000\n",
    "    if len(users)>user_limit or len(preference_matrix)>user_limit:\n",
    "        raise ValueError(f\"The user limit is {user_limit}\")\n",
    "    if len(users) != len(preference_matrix):\n",
    "        raise ValueError(f\"user list and matrix length do not match\")\n",
    "\n",
    "def get_preference_lists(users, preference_matrix):\n",
    "    check_input(users, preference_matrix)\n",
    "\n",
    "    user_preferences = cosine_similarity(preference_matrix)\n",
    "    get_sorted_list = get_sorted_list_func(users, user_preferences)\n",
    "    return [get_sorted_list(user_index) for user_index in range(len(users))]\n",
    "\n",
    "\n",
    "\n"
   ],
   "metadata": {
    "collapsed": false,
    "ExecuteTime": {
     "end_time": "2023-10-28T15:49:13.625989139Z",
     "start_time": "2023-10-28T15:49:13.615651548Z"
    }
   },
   "id": "bfe55b16c578ab43"
  },
  {
   "cell_type": "code",
   "execution_count": 166,
   "outputs": [],
   "source": [],
   "metadata": {
    "collapsed": false,
    "ExecuteTime": {
     "end_time": "2023-10-28T15:49:13.959733675Z",
     "start_time": "2023-10-28T15:49:13.942521491Z"
    }
   },
   "id": "8a9f14fee1d3131b"
  },
  {
   "cell_type": "markdown",
   "source": [
    "## Use the Functions"
   ],
   "metadata": {
    "collapsed": false
   },
   "id": "fea236bf9a26b451"
  },
  {
   "cell_type": "code",
   "execution_count": 166,
   "outputs": [],
   "source": [],
   "metadata": {
    "collapsed": false,
    "ExecuteTime": {
     "end_time": "2023-10-28T15:49:14.281722118Z",
     "start_time": "2023-10-28T15:49:14.264032578Z"
    }
   },
   "id": "7302285b5d9034d2"
  },
  {
   "cell_type": "code",
   "execution_count": 159,
   "outputs": [
    {
     "name": "stdout",
     "output_type": "stream",
     "text": [
      "[Snake, Panda, Tree, Dolphin, Water, Basel, Table 16]\n"
     ]
    }
   ],
   "source": [
    "\n",
    "\n",
    "players = []\n",
    "\n",
    "for name in users:\n",
    "    player_obj = Player(name)\n",
    "    players.append(player_obj)\n",
    "\n",
    "print(players)\n",
    "# for i, p in enumerate(players):\n",
    "#     p.set_prefs(preference_order[i])\n",
    "\n",
    "\n",
    "# game = StableRoommates(players)\n",
    "# game.solve()"
   ],
   "metadata": {
    "collapsed": false,
    "ExecuteTime": {
     "end_time": "2023-10-28T14:30:50.395414319Z",
     "start_time": "2023-10-28T14:30:50.382776333Z"
    }
   },
   "id": "ff595b57e15371f3"
  },
  {
   "cell_type": "code",
   "execution_count": 167,
   "outputs": [
    {
     "name": "stdout",
     "output_type": "stream",
     "text": [
      "Size of the matrix: 42 bytes\n"
     ]
    },
    {
     "data": {
      "text/plain": "[['Panda', 'Dolphin', 'Table 16', 'Tree', 'Basel', 'Water'],\n ['Snake', 'Dolphin', 'Table 16', 'Basel', 'Tree', 'Water'],\n ['Basel', 'Table 16', 'Water', 'Snake', 'Dolphin', 'Panda'],\n ['Table 16', 'Snake', 'Panda', 'Tree', 'Basel', 'Water'],\n ['Tree', 'Table 16', 'Basel', 'Dolphin', 'Snake', 'Panda'],\n ['Tree', 'Table 16', 'Water', 'Snake', 'Panda', 'Dolphin'],\n ['Basel', 'Tree', 'Dolphin', 'Snake', 'Water', 'Panda']]"
     },
     "execution_count": 167,
     "metadata": {},
     "output_type": "execute_result"
    }
   ],
   "source": [
    "\n",
    "users = ['Snake','Panda','Tree','Dolphin','Water','Basel','Table 16']\n",
    "preference_matrix = np.array([\n",
    "    [1, 2, 3, 3, 1, 2],\n",
    "    [1, 2, 4, 5, 1, 1],\n",
    "    [5, 5, 3, 0, 5, 1],\n",
    "    [0, 1, 1, 0, 0, 1],\n",
    "    [5, 5, 0, 0, 1, 1],\n",
    "    [4, 3, 3, 0, 5, 1],\n",
    "    [1, 1, 1, 0, 1, 1]\n",
    "], dtype='uint8')\n",
    "size_in_bytes = preference_matrix.nbytes\n",
    "print(f\"Size of the matrix: {size_in_bytes} bytes\")\n",
    "\n",
    "preference_order = get_preference_lists(users, preference_matrix)\n",
    "preference_order\n"
   ],
   "metadata": {
    "collapsed": false,
    "ExecuteTime": {
     "start_time": "2023-10-28T15:49:14.914679191Z"
    }
   },
   "id": "a8a6628dba1b9186"
  },
  {
   "cell_type": "code",
   "execution_count": 162,
   "outputs": [
    {
     "data": {
      "text/plain": "jerry"
     },
     "execution_count": 162,
     "metadata": {},
     "output_type": "execute_result"
    }
   ],
   "source": [
    "players = [\n",
    "    Player(\"jerry\"),\n",
    "    Player(\"george\"),\n",
    "    Player(\"kramer\"),\n",
    "    Player(\"elaine\"),\n",
    "]\n",
    "players[0]"
   ],
   "metadata": {
    "collapsed": false,
    "ExecuteTime": {
     "end_time": "2023-10-28T14:31:27.030413943Z",
     "start_time": "2023-10-28T14:31:27.015581629Z"
    }
   },
   "id": "9a29c81b1b0669ff"
  },
  {
   "cell_type": "code",
   "execution_count": 163,
   "outputs": [],
   "source": [
    "jerry, george, elaine, kramer = players\n",
    "\n",
    "jerry.set_prefs([george, elaine, kramer])\n",
    "george.set_prefs([jerry, kramer, elaine])\n",
    "elaine.set_prefs([jerry, kramer, george])\n",
    "kramer.set_prefs([elaine, george, jerry])"
   ],
   "metadata": {
    "collapsed": false,
    "ExecuteTime": {
     "end_time": "2023-10-28T14:31:59.218117513Z",
     "start_time": "2023-10-28T14:31:59.169483141Z"
    }
   },
   "id": "37468ad06e3338a6"
  },
  {
   "cell_type": "code",
   "execution_count": 164,
   "outputs": [
    {
     "data": {
      "text/plain": "jerry"
     },
     "execution_count": 164,
     "metadata": {},
     "output_type": "execute_result"
    }
   ],
   "source": [
    "jerry"
   ],
   "metadata": {
    "collapsed": false,
    "ExecuteTime": {
     "end_time": "2023-10-28T14:32:02.384590014Z",
     "start_time": "2023-10-28T14:32:02.371566276Z"
    }
   },
   "id": "834dfbfe0b60cb0b"
  },
  {
   "cell_type": "code",
   "execution_count": 165,
   "outputs": [
    {
     "ename": "ImportError",
     "evalue": "cannot import name 'User' from 'functions' (unknown location)",
     "output_type": "error",
     "traceback": [
      "\u001B[0;31m---------------------------------------------------------------------------\u001B[0m",
      "\u001B[0;31mImportError\u001B[0m                               Traceback (most recent call last)",
      "Cell \u001B[0;32mIn[165], line 1\u001B[0m\n\u001B[0;32m----> 1\u001B[0m \u001B[38;5;28;01mfrom\u001B[39;00m \u001B[38;5;21;01mfunctions\u001B[39;00m \u001B[38;5;28;01mimport\u001B[39;00m User\n",
      "\u001B[0;31mImportError\u001B[0m: cannot import name 'User' from 'functions' (unknown location)"
     ]
    }
   ],
   "source": [],
   "metadata": {
    "collapsed": false,
    "ExecuteTime": {
     "end_time": "2023-10-28T15:41:06.903003462Z",
     "start_time": "2023-10-28T15:41:06.867434988Z"
    }
   },
   "id": "4180d228b79f25f3"
  },
  {
   "cell_type": "code",
   "execution_count": 139,
   "outputs": [],
   "source": [],
   "metadata": {
    "collapsed": false,
    "ExecuteTime": {
     "end_time": "2023-10-28T14:04:25.593384377Z",
     "start_time": "2023-10-28T14:04:25.008359499Z"
    }
   },
   "id": "96ddc60b5e5f3caa"
  }
 ],
 "metadata": {
  "kernelspec": {
   "display_name": "Python 3",
   "language": "python",
   "name": "python3"
  },
  "language_info": {
   "codemirror_mode": {
    "name": "ipython",
    "version": 2
   },
   "file_extension": ".py",
   "mimetype": "text/x-python",
   "name": "python",
   "nbconvert_exporter": "python",
   "pygments_lexer": "ipython2",
   "version": "2.7.6"
  }
 },
 "nbformat": 4,
 "nbformat_minor": 5
}
