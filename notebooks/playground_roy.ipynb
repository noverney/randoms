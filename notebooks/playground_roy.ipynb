{
 "cells": [
  {
   "cell_type": "code",
   "execution_count": 1,
   "id": "initial_id",
   "metadata": {
    "ExecuteTime": {
     "end_time": "2023-10-28T18:28:13.377018257Z",
     "start_time": "2023-10-28T18:28:12.277786742Z"
    },
    "collapsed": true
   },
   "outputs": [],
   "source": [
    "import time\n",
    "import numpy as np\n",
    "from sklearn.metrics.pairwise import cosine_similarity\n",
    "import collections\n",
    "from matching import Player\n",
    "from matching.games import StableRoommates\n"
   ]
  },
  {
   "cell_type": "code",
   "execution_count": 1,
   "id": "3b50d41a9f16ce5b",
   "metadata": {
    "ExecuteTime": {
     "end_time": "2023-10-28T18:28:13.377499356Z",
     "start_time": "2023-10-28T18:28:13.375857450Z"
    },
    "collapsed": false
   },
   "outputs": [],
   "source": []
  },
  {
   "cell_type": "code",
   "execution_count": 1,
   "id": "65d0fd8af0d27c74",
   "metadata": {
    "ExecuteTime": {
     "end_time": "2023-10-28T18:28:13.377705620Z",
     "start_time": "2023-10-28T18:28:13.376246262Z"
    },
    "collapsed": false
   },
   "outputs": [],
   "source": []
  },
  {
   "cell_type": "markdown",
   "id": "438cb1c08ac04b78",
   "metadata": {
    "collapsed": false
   },
   "source": [
    "# Calculate the similarity of preferences"
   ]
  },
  {
   "cell_type": "markdown",
   "id": "1990663a33791ccf",
   "metadata": {
    "collapsed": false
   },
   "source": [
    "## Pereference Matrix\n",
    "One row is the activity rating of a user\n",
    "Each column is an activity"
   ]
  },
  {
   "cell_type": "code",
   "execution_count": 2,
   "id": "26b37c1f39e49260",
   "metadata": {
    "ExecuteTime": {
     "end_time": "2023-10-28T18:28:13.378126071Z",
     "start_time": "2023-10-28T18:28:13.376429681Z"
    },
    "collapsed": false
   },
   "outputs": [
    {
     "name": "stdout",
     "output_type": "stream",
     "text": [
      "Size of the matrix: 24 bytes\n"
     ]
    }
   ],
   "source": [
    "\n",
    "user_ids = ['Snake','Panda','Tree','Dolphin']\n",
    "preference_matrix = np.array([\n",
    "    [1, 2, 3, 3, 1, 2],\n",
    "    [1, 2, 4, 5, 1, 1],\n",
    "    [5, 5, 3, 0, 5, 1],\n",
    "    [5, 3, 2, 0, 4, 1]\n",
    "], dtype='uint8')\n",
    "size_in_bytes = preference_matrix.nbytes\n",
    "print(f\"Size of the matrix: {size_in_bytes} bytes\")"
   ]
  },
  {
   "cell_type": "markdown",
   "id": "69d4e46513249370",
   "metadata": {
    "collapsed": false
   },
   "source": [
    "Create Huge Matrix to stress test"
   ]
  },
  {
   "cell_type": "code",
   "execution_count": 3,
   "id": "c317ebd2293a265e",
   "metadata": {
    "ExecuteTime": {
     "end_time": "2023-10-28T18:28:13.378431973Z",
     "start_time": "2023-10-28T18:28:13.376627094Z"
    },
    "collapsed": false
   },
   "outputs": [],
   "source": [
    "# num_users = 10000\n",
    "# num_preferences = 10000\n",
    "# huge_matrix = np.random.randint(0, 256, size=(num_users, num_preferences), dtype=np.uint8)\n",
    "# \n",
    "# preference_matrix = huge_matrix\n",
    "# \n",
    "# size_in_bytes = huge_matrix.nbytes\n",
    "# size_in_gb = size_in_bytes / (1024**3)\n",
    "# \n",
    "# print(f\"Size of the matrix: {size_in_gb:.2f} GB\")"
   ]
  },
  {
   "cell_type": "markdown",
   "id": "1e711e8b0eb75d35",
   "metadata": {
    "collapsed": false
   },
   "source": [
    "## Manual Cos Calc\n",
    "May come in useful later, when we want to calculate it on a per user basis"
   ]
  },
  {
   "cell_type": "code",
   "execution_count": 4,
   "id": "42c007d8220de103",
   "metadata": {
    "ExecuteTime": {
     "end_time": "2023-10-28T18:28:13.424885426Z",
     "start_time": "2023-10-28T18:28:13.378278069Z"
    },
    "collapsed": false
   },
   "outputs": [],
   "source": [
    "# def cosine_similarity(matrix):\n",
    "#     dot_product = np.dot(matrix, matrix.T)\n",
    "#     #print(dot_product)\n",
    "#     norms = np.linalg.norm(matrix, axis=1)\n",
    "#     # print(norms)\n",
    "#     cosine_sim = dot_product / (np.outer(norms, norms))\n",
    "#     return cosine_sim\n",
    "# \n",
    "# \n",
    "# start_time = time.time()\n",
    "# cosine_sim_matrix = cosine_similarity(preference_matrix)\n",
    "# end_time = time.time()\n",
    "# elapsed_time = end_time - start_time\n",
    "# print(f\"Elapsed time: {elapsed_time} seconds\")\n",
    "# # Print the cosine similarity matrix\n",
    "# print(cosine_sim_matrix)\n"
   ]
  },
  {
   "cell_type": "markdown",
   "id": "4e9181237d3af1a3",
   "metadata": {
    "collapsed": false
   },
   "source": [
    "## Use sklearn to Cos Calc"
   ]
  },
  {
   "cell_type": "code",
   "execution_count": 5,
   "id": "18d5b71c249a74dc",
   "metadata": {
    "ExecuteTime": {
     "end_time": "2023-10-28T18:28:13.554721553Z",
     "start_time": "2023-10-28T18:28:13.389594964Z"
    },
    "collapsed": false
   },
   "outputs": [
    {
     "name": "stdout",
     "output_type": "stream",
     "text": [
      "Elapsed time: 0.003764 seconds\n",
      "[[1.         0.95470327 0.63543805 0.58609427]\n",
      " [0.95470327 1.         0.51663504 0.46709937]\n",
      " [0.63543805 0.51663504 1.         0.97990505]\n",
      " [0.58609427 0.46709937 0.97990505 1.        ]]\n"
     ]
    }
   ],
   "source": [
    "start_time = time.time()\n",
    "\n",
    "cosine_sim_matrix = cosine_similarity(preference_matrix)\n",
    "end_time = time.time()\n",
    "\n",
    "elapsed_time = end_time - start_time\n",
    "print(f\"Elapsed time: {np.round(elapsed_time,6)} seconds\")\n",
    "\n",
    "\n",
    "print(cosine_sim_matrix)\n"
   ]
  },
  {
   "cell_type": "markdown",
   "id": "324b46088612c4f3",
   "metadata": {
    "collapsed": false
   },
   "source": [
    "## Interpret the result\n",
    "With words..."
   ]
  },
  {
   "cell_type": "code",
   "execution_count": 6,
   "id": "4c43837fa4f45e75",
   "metadata": {
    "ExecuteTime": {
     "end_time": "2023-10-28T18:28:13.559896782Z",
     "start_time": "2023-10-28T18:28:13.422536885Z"
    },
    "collapsed": false
   },
   "outputs": [
    {
     "name": "stdout",
     "output_type": "stream",
     "text": [
      "Higher Score = Better\n",
      "User Snake gets along with:\n",
      "> user Snake: 0.9999999999999999\n",
      "> user Panda: 0.9547032697824668\n",
      "> user Tree: 0.6354380478103605\n",
      "> user Dolphin: 0.5860942701532693\n",
      "User Panda gets along with:\n",
      "> user Snake: 0.9547032697824668\n",
      "> user Panda: 1.0000000000000002\n",
      "> user Tree: 0.5166350401452484\n",
      "> user Dolphin: 0.46709936649691386\n",
      "User Tree gets along with:\n",
      "> user Snake: 0.6354380478103605\n",
      "> user Panda: 0.5166350401452484\n",
      "> user Tree: 0.9999999999999998\n",
      "> user Dolphin: 0.9799050483303551\n",
      "User Dolphin gets along with:\n",
      "> user Snake: 0.5860942701532693\n",
      "> user Panda: 0.46709936649691386\n",
      "> user Tree: 0.9799050483303551\n",
      "> user Dolphin: 0.9999999999999999\n"
     ]
    }
   ],
   "source": [
    "print('Higher Score = Better')\n",
    "\n",
    "for i, user_pref in enumerate(cosine_sim_matrix):\n",
    "    print(f'User {user_ids[i]} gets along with:')\n",
    "    for j, partner_score in enumerate(user_pref):\n",
    "        print(f\"> user {user_ids[j]}: {partner_score}\")\n",
    "        \n"
   ]
  },
  {
   "cell_type": "code",
   "execution_count": 7,
   "id": "f5af822fe25d115",
   "metadata": {
    "ExecuteTime": {
     "end_time": "2023-10-28T18:28:13.589098761Z",
     "start_time": "2023-10-28T18:28:13.438019719Z"
    },
    "collapsed": false
   },
   "outputs": [],
   "source": [
    "# preference_list = {}\n",
    "# \n",
    "# for i, user_pref in enumerate(cosine_sim_matrix):\n",
    "#     print(f\"list for {user_ids[i]}\")\n",
    "#     the_list = {score:user_ids[j] for j, score in enumerate(user_pref) if j != i} # j != i If its not the user itself\n",
    "#     print(f'unsorted {the_list}')\n",
    "#     sorted_list = dict(sorted(the_list.items(), reverse=True))\n",
    "#     print(f'sorted {sorted_list}')\n",
    "#     final_list = list(sorted_list.values())\n",
    "#     print(final_list)\n",
    "#     preference_list[user_ids[i]] = final_list\n",
    "#     print('======')\n",
    "# \n",
    "# preference_list\n"
   ]
  },
  {
   "cell_type": "markdown",
   "id": "80bc5734f2764d55",
   "metadata": {
    "collapsed": false
   },
   "source": [
    "## Generate Users"
   ]
  },
  {
   "cell_type": "code",
   "execution_count": 7,
   "id": "5a714455fba00efa",
   "metadata": {
    "ExecuteTime": {
     "end_time": "2023-10-28T18:28:13.589786351Z",
     "start_time": "2023-10-28T18:28:13.479833902Z"
    },
    "collapsed": false
   },
   "outputs": [],
   "source": [
    "\n",
    "\n",
    "\n"
   ]
  },
  {
   "cell_type": "markdown",
   "id": "922e318bc1a440d5",
   "metadata": {
    "collapsed": false
   },
   "source": [
    "## Cleaned Functions\n",
    "Use these to actually implement it"
   ]
  },
  {
   "cell_type": "code",
   "execution_count": 8,
   "id": "bfe55b16c578ab43",
   "metadata": {
    "ExecuteTime": {
     "end_time": "2023-10-28T18:28:13.590056277Z",
     "start_time": "2023-10-28T18:28:13.480175539Z"
    },
    "collapsed": false
   },
   "outputs": [],
   "source": [
    "\n",
    "# def get_sorted_list_func(user_ids, user_preferences):\n",
    "#     def get_sorted_list(user_index):\n",
    "#         user_score_list = {user_ids[partner_id]:score for partner_id, score in enumerate(user_preferences[user_index]) if partner_id != user_index}\n",
    "#         user_score_ordered = collections.OrderedDict(sorted(user_score_list.items(), key=lambda item: item[1], reverse=True))\n",
    "#         return list(user_score_ordered)\n",
    "#     return get_sorted_list\n",
    "# \n",
    "# def check_input(user_ids, preference_matrix):\n",
    "#     user_limit = 10000\n",
    "#     if len(user_ids)>user_limit or len(preference_matrix)>user_limit:\n",
    "#         raise ValueError(f\"The user limit is {user_limit}\")\n",
    "#     if len(user_ids) != len(preference_matrix):\n",
    "#         raise ValueError(f\"user list and matrix length do not match\")\n",
    "# \n",
    "# def get_preference_lists(user_ids, preference_matrix):\n",
    "#     check_input(user_ids, preference_matrix)\n",
    "# \n",
    "#     user_preferences = cosine_similarity(preference_matrix)\n",
    "#     get_sorted_list = get_sorted_list_func(user_ids, user_preferences)\n",
    "#     return [get_sorted_list(user_index) for user_index in range(len(user_ids))]\n",
    "# \n",
    "\n",
    "\n"
   ]
  },
  {
   "cell_type": "code",
   "execution_count": 8,
   "id": "8a9f14fee1d3131b",
   "metadata": {
    "ExecuteTime": {
     "end_time": "2023-10-28T18:28:13.590247334Z",
     "start_time": "2023-10-28T18:28:13.480300448Z"
    },
    "collapsed": false
   },
   "outputs": [],
   "source": []
  },
  {
   "cell_type": "markdown",
   "id": "fea236bf9a26b451",
   "metadata": {
    "collapsed": false
   },
   "source": [
    "## Use the Functions"
   ]
  },
  {
   "cell_type": "code",
   "execution_count": 8,
   "id": "7302285b5d9034d2",
   "metadata": {
    "ExecuteTime": {
     "end_time": "2023-10-28T18:28:13.590500659Z",
     "start_time": "2023-10-28T18:28:13.480430156Z"
    },
    "collapsed": false
   },
   "outputs": [],
   "source": []
  },
  {
   "cell_type": "code",
   "execution_count": 9,
   "id": "ff595b57e15371f3",
   "metadata": {
    "ExecuteTime": {
     "end_time": "2023-10-28T18:28:13.592658644Z",
     "start_time": "2023-10-28T18:28:13.480515939Z"
    },
    "collapsed": false
   },
   "outputs": [
    {
     "name": "stdout",
     "output_type": "stream",
     "text": [
      "[Snake, Panda, Tree, Dolphin]\n"
     ]
    }
   ],
   "source": []
  },
  {
   "cell_type": "code",
   "execution_count": 14,
   "id": "a8a6628dba1b9186",
   "metadata": {
    "collapsed": false,
    "ExecuteTime": {
     "end_time": "2023-10-29T07:54:56.702168114Z",
     "start_time": "2023-10-29T07:54:56.107892608Z"
    }
   },
   "outputs": [
    {
     "ename": "ModuleNotFoundError",
     "evalue": "No module named 'data'",
     "output_type": "error",
     "traceback": [
      "\u001B[0;31m---------------------------------------------------------------------------\u001B[0m",
      "\u001B[0;31mModuleNotFoundError\u001B[0m                       Traceback (most recent call last)",
      "Cell \u001B[0;32mIn[14], line 1\u001B[0m\n\u001B[0;32m----> 1\u001B[0m \u001B[38;5;28;01mfrom\u001B[39;00m \u001B[38;5;21;01mfunctions\u001B[39;00m\u001B[38;5;21;01m.\u001B[39;00m\u001B[38;5;21;01mmatching_users\u001B[39;00m \u001B[38;5;28;01mimport\u001B[39;00m \u001B[38;5;241m*\u001B[39m\n\u001B[1;32m      4\u001B[0m user_ids \u001B[38;5;241m=\u001B[39m [\u001B[38;5;124m'\u001B[39m\u001B[38;5;124mSnake\u001B[39m\u001B[38;5;124m'\u001B[39m,\u001B[38;5;124m'\u001B[39m\u001B[38;5;124mPanda\u001B[39m\u001B[38;5;124m'\u001B[39m,\u001B[38;5;124m'\u001B[39m\u001B[38;5;124mTree\u001B[39m\u001B[38;5;124m'\u001B[39m,\u001B[38;5;124m'\u001B[39m\u001B[38;5;124mDolphin\u001B[39m\u001B[38;5;124m'\u001B[39m,\u001B[38;5;124m'\u001B[39m\u001B[38;5;124mWater\u001B[39m\u001B[38;5;124m'\u001B[39m,\u001B[38;5;124m'\u001B[39m\u001B[38;5;124mBasel\u001B[39m\u001B[38;5;124m'\u001B[39m,\u001B[38;5;124m'\u001B[39m\u001B[38;5;124mTable 16\u001B[39m\u001B[38;5;124m'\u001B[39m]\n\u001B[1;32m      5\u001B[0m preference_matrix \u001B[38;5;241m=\u001B[39m np\u001B[38;5;241m.\u001B[39marray([\n\u001B[1;32m      6\u001B[0m     [\u001B[38;5;241m1\u001B[39m, \u001B[38;5;241m2\u001B[39m, \u001B[38;5;241m3\u001B[39m, \u001B[38;5;241m3\u001B[39m, \u001B[38;5;241m1\u001B[39m, \u001B[38;5;241m2\u001B[39m],\n\u001B[1;32m      7\u001B[0m     [\u001B[38;5;241m1\u001B[39m, \u001B[38;5;241m2\u001B[39m, \u001B[38;5;241m4\u001B[39m, \u001B[38;5;241m5\u001B[39m, \u001B[38;5;241m1\u001B[39m, \u001B[38;5;241m1\u001B[39m],\n\u001B[0;32m   (...)\u001B[0m\n\u001B[1;32m     12\u001B[0m     [\u001B[38;5;241m1\u001B[39m, \u001B[38;5;241m1\u001B[39m, \u001B[38;5;241m1\u001B[39m, \u001B[38;5;241m0\u001B[39m, \u001B[38;5;241m1\u001B[39m, \u001B[38;5;241m1\u001B[39m]\n\u001B[1;32m     13\u001B[0m ], dtype\u001B[38;5;241m=\u001B[39m\u001B[38;5;124m'\u001B[39m\u001B[38;5;124muint8\u001B[39m\u001B[38;5;124m'\u001B[39m)\n",
      "File \u001B[0;32m~/DataspellProjects/randoms/functions/matching_users.py:8\u001B[0m\n\u001B[1;32m      6\u001B[0m \u001B[38;5;28;01mfrom\u001B[39;00m \u001B[38;5;21;01msklearn\u001B[39;00m\u001B[38;5;21;01m.\u001B[39;00m\u001B[38;5;21;01mmetrics\u001B[39;00m\u001B[38;5;21;01m.\u001B[39;00m\u001B[38;5;21;01mpairwise\u001B[39;00m \u001B[38;5;28;01mimport\u001B[39;00m cosine_similarity\n\u001B[1;32m      7\u001B[0m \u001B[38;5;28;01mimport\u001B[39;00m \u001B[38;5;21;01mcollections\u001B[39;00m\n\u001B[0;32m----> 8\u001B[0m \u001B[38;5;28;01mfrom\u001B[39;00m \u001B[38;5;21;01mdata\u001B[39;00m \u001B[38;5;28;01mimport\u001B[39;00m User\n\u001B[1;32m     10\u001B[0m \u001B[38;5;28;01mdef\u001B[39;00m \u001B[38;5;21mget_sorted_list_func\u001B[39m(user_ids, user_preferences):\n\u001B[1;32m     11\u001B[0m     \u001B[38;5;28;01mdef\u001B[39;00m \u001B[38;5;21mget_sorted_list\u001B[39m(user_index):\n",
      "\u001B[0;31mModuleNotFoundError\u001B[0m: No module named 'data'"
     ]
    }
   ],
   "source": [
    "from functions.matching_users import *\n",
    "\n",
    "\n",
    "user_ids = ['Snake','Panda','Tree','Dolphin','Water','Basel','Table 16']\n",
    "preference_matrix = np.array([\n",
    "    [1, 2, 3, 3, 1, 2],\n",
    "    [1, 2, 4, 5, 1, 1],\n",
    "    [5, 5, 3, 0, 5, 1],\n",
    "    [0, 1, 1, 0, 0, 1],\n",
    "    [5, 5, 0, 0, 1, 1],\n",
    "    [4, 3, 3, 0, 5, 1],\n",
    "    [1, 1, 1, 0, 1, 1]\n",
    "], dtype='uint8')\n",
    "size_in_bytes = preference_matrix.nbytes\n",
    "print(f\"Size of the matrix: {size_in_bytes} bytes\")\n",
    "\n",
    "preference_order = get_preference_lists(user_ids, preference_matrix)\n",
    "preference_order\n"
   ]
  },
  {
   "cell_type": "code",
   "execution_count": 26,
   "id": "9a29c81b1b0669ff",
   "metadata": {
    "collapsed": false,
    "ExecuteTime": {
     "end_time": "2023-10-29T08:04:50.833143676Z",
     "start_time": "2023-10-29T08:04:50.781673733Z"
    }
   },
   "outputs": [
    {
     "data": {
      "text/plain": "'I really like Sports!'"
     },
     "execution_count": 26,
     "metadata": {},
     "output_type": "execute_result"
    }
   ],
   "source": [
    "import json\n",
    "from datetime import date\n",
    "import random\n",
    "from faker import Faker\n",
    "\n",
    "\n",
    "def get_workdays():\n",
    "    random_array = [random.choice([False, True]) for _ in range(5)]\n",
    "    return [days for nr, days in enumerate(['Mon', 'Tue', 'Wed','Thu','Fri']) if random_array[nr]]\n",
    "\n",
    "def get_preferences():\n",
    "    preference_topics = ['Lord of the Rings', 'Sports', 'Football', 'PC Gaming', 'Console Gaming', 'Sleeping', 'Hygiene', 'Cooking', 'Books', 'Anime/Manga']\n",
    "    score = [0,0,0,0,0,0,0,0,0,0,1,2,3,4,5]\n",
    "    return {preference:random.choice(score) for preference in preference_topics}\n",
    "\n",
    "def create_fake_users(amount):\n",
    "    fake = Faker(locale = \"en_GB\")\n",
    "    return [User(i, {'name':fake.name(),'days':get_workdays(),'preferences':get_preferences()}) for i in range(amount)]\n",
    "\n",
    "def get_funfact(preferences):\n",
    "    max_key = max(preferences, key=preferences.get)\n",
    "    return 'I really like {}!'.format(max_key)\n",
    "\n",
    "    \n",
    "    \n",
    "\n",
    "user = create_fake_users(1)\n",
    "get_funfact(user[0].preferences)\n"
   ]
  },
  {
   "cell_type": "code",
   "execution_count": 25,
   "id": "37468ad06e3338a6",
   "metadata": {
    "collapsed": false,
    "ExecuteTime": {
     "end_time": "2023-10-29T08:04:47.248009298Z",
     "start_time": "2023-10-29T08:04:47.232445347Z"
    }
   },
   "outputs": [],
   "source": [
    "from functions.data import User\n",
    "# import random\n",
    "# from faker import Faker\n",
    "# \n",
    "# \n",
    "# \n",
    "# def get_workdays():\n",
    "#     random_array = [random.choice([False, True]) for _ in range(5)]\n",
    "#     return [days for nr, days in enumerate(['Mon', 'Tue', 'Wen','Thu','Fri']) if random_array[nr]]\n",
    "# \n",
    "# def get_preferences():\n",
    "#     preference_topics = ['Lord of the Rings', 'Hackatons', 'Console Gaming', 'PC Gaming', 'Humans', 'Bouldering', 'Boxing', 'Football']\n",
    "#     score = [0,0,0,0,0,0,0,0,0,0,1,2,3,4,5]\n",
    "#     return {preference:random.choice(score) for preference in preference_topics}\n",
    "# \n",
    "# def create_fake_users(amount):\n",
    "#     fake = Faker(locale = \"en_GB\")\n",
    "#     return [User(i, {'name':fake.name(),'days':get_workdays(),'preferences':get_preferences()}) for i in range(amount)]\n",
    "#         \n",
    "# \n",
    "# fake_users = create_fake_users(10)\n",
    "# \n",
    "# for u in fake_users:\n",
    "#     print(str(u))\n",
    "\n",
    "\n"
   ]
  },
  {
   "cell_type": "code",
   "execution_count": 12,
   "id": "834dfbfe0b60cb0b",
   "metadata": {
    "ExecuteTime": {
     "end_time": "2023-10-28T18:28:13.789507080Z",
     "start_time": "2023-10-28T18:28:13.665400467Z"
    },
    "collapsed": false
   },
   "outputs": [],
   "source": [
    "from functions.data import create_fake_users"
   ]
  },
  {
   "cell_type": "code",
   "execution_count": 13,
   "id": "4180d228b79f25f3",
   "metadata": {
    "ExecuteTime": {
     "end_time": "2023-10-28T18:28:13.791683938Z",
     "start_time": "2023-10-28T18:28:13.707846880Z"
    },
    "collapsed": false
   },
   "outputs": [
    {
     "name": "stdout",
     "output_type": "stream",
     "text": [
      "{\"name\": \"Ms Lisa Griffiths\", \"days\": [\"Wen\", \"Fri\"], \"preferences\": {\"Lord of the Rings\": 3, \"Hackatons\": 0, \"Console Gaming\": 0, \"PC Gaming\": 1, \"Humans\": 2, \"Bouldering\": 0, \"Boxing\": 2, \"Football\": 0}, \"id\": 0}\n",
      "{\"name\": \"Mr Tony Alexander\", \"days\": [\"Tue\", \"Thu\"], \"preferences\": {\"Lord of the Rings\": 0, \"Hackatons\": 0, \"Console Gaming\": 1, \"PC Gaming\": 0, \"Humans\": 3, \"Bouldering\": 3, \"Boxing\": 0, \"Football\": 0}, \"id\": 1}\n",
      "{\"name\": \"Natalie Davies\", \"days\": [\"Mon\", \"Tue\", \"Fri\"], \"preferences\": {\"Lord of the Rings\": 0, \"Hackatons\": 0, \"Console Gaming\": 0, \"PC Gaming\": 1, \"Humans\": 2, \"Bouldering\": 0, \"Boxing\": 3, \"Football\": 4}, \"id\": 2}\n",
      "{\"name\": \"Janice O'Connor\", \"days\": [\"Tue\", \"Wen\", \"Thu\"], \"preferences\": {\"Lord of the Rings\": 0, \"Hackatons\": 2, \"Console Gaming\": 0, \"PC Gaming\": 5, \"Humans\": 0, \"Bouldering\": 1, \"Boxing\": 0, \"Football\": 0}, \"id\": 3}\n",
      "{\"name\": \"Carl Richards\", \"days\": [\"Thu\", \"Fri\"], \"preferences\": {\"Lord of the Rings\": 0, \"Hackatons\": 0, \"Console Gaming\": 4, \"PC Gaming\": 0, \"Humans\": 0, \"Bouldering\": 0, \"Boxing\": 0, \"Football\": 1}, \"id\": 4}\n",
      "{\"name\": \"Megan Moss\", \"days\": [\"Mon\", \"Tue\", \"Thu\", \"Fri\"], \"preferences\": {\"Lord of the Rings\": 0, \"Hackatons\": 1, \"Console Gaming\": 0, \"PC Gaming\": 0, \"Humans\": 0, \"Bouldering\": 3, \"Boxing\": 0, \"Football\": 3}, \"id\": 5}\n",
      "{\"name\": \"Dr Dennis Hughes\", \"days\": [\"Mon\", \"Tue\"], \"preferences\": {\"Lord of the Rings\": 0, \"Hackatons\": 0, \"Console Gaming\": 0, \"PC Gaming\": 1, \"Humans\": 0, \"Bouldering\": 0, \"Boxing\": 5, \"Football\": 5}, \"id\": 6}\n",
      "{\"name\": \"Christopher Myers\", \"days\": [], \"preferences\": {\"Lord of the Rings\": 0, \"Hackatons\": 0, \"Console Gaming\": 0, \"PC Gaming\": 0, \"Humans\": 0, \"Bouldering\": 5, \"Boxing\": 0, \"Football\": 0}, \"id\": 7}\n",
      "{\"name\": \"Russell Mills\", \"days\": [\"Mon\"], \"preferences\": {\"Lord of the Rings\": 0, \"Hackatons\": 0, \"Console Gaming\": 1, \"PC Gaming\": 4, \"Humans\": 5, \"Bouldering\": 0, \"Boxing\": 3, \"Football\": 5}, \"id\": 8}\n",
      "{\"name\": \"Joan Wilkinson\", \"days\": [\"Mon\", \"Tue\", \"Thu\", \"Fri\"], \"preferences\": {\"Lord of the Rings\": 0, \"Hackatons\": 5, \"Console Gaming\": 3, \"PC Gaming\": 5, \"Humans\": 0, \"Bouldering\": 4, \"Boxing\": 0, \"Football\": 0}, \"id\": 9}\n"
     ]
    }
   ],
   "source": [
    "fake_users = create_fake_users(10)\n",
    "\n",
    "for u in fake_users:\n",
    "    print(str(u))"
   ]
  },
  {
   "cell_type": "code",
   "execution_count": 13,
   "id": "96ddc60b5e5f3caa",
   "metadata": {
    "ExecuteTime": {
     "end_time": "2023-10-28T18:28:13.792009008Z",
     "start_time": "2023-10-28T18:28:13.755810489Z"
    },
    "collapsed": false
   },
   "outputs": [],
   "source": []
  }
 ],
 "metadata": {
  "kernelspec": {
   "display_name": "Python 3",
   "language": "python",
   "name": "python3"
  },
  "language_info": {
   "codemirror_mode": {
    "name": "ipython",
    "version": 2
   },
   "file_extension": ".py",
   "mimetype": "text/x-python",
   "name": "python",
   "nbconvert_exporter": "python",
   "pygments_lexer": "ipython2",
   "version": "3.12.0"
  }
 },
 "nbformat": 4,
 "nbformat_minor": 5
}
