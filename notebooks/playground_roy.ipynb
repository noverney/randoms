{
 "cells": [
  {
   "cell_type": "code",
   "execution_count": 10,
   "id": "initial_id",
   "metadata": {
    "collapsed": true,
    "ExecuteTime": {
     "end_time": "2023-10-29T13:00:30.776457436Z",
     "start_time": "2023-10-29T13:00:30.624446824Z"
    }
   },
   "outputs": [],
   "source": [
    "import time\n",
    "import numpy as np\n",
    "from sklearn.metrics.pairwise import cosine_similarity\n",
    "import collections\n",
    "from matching import Player\n",
    "from matching.games import StableRoommates\n"
   ]
  },
  {
   "cell_type": "code",
   "execution_count": 10,
   "id": "3b50d41a9f16ce5b",
   "metadata": {
    "collapsed": false,
    "ExecuteTime": {
     "end_time": "2023-10-29T13:00:30.913607900Z",
     "start_time": "2023-10-29T13:00:30.641597122Z"
    }
   },
   "outputs": [],
   "source": []
  },
  {
   "cell_type": "code",
   "execution_count": 10,
   "id": "65d0fd8af0d27c74",
   "metadata": {
    "collapsed": false,
    "ExecuteTime": {
     "end_time": "2023-10-29T13:00:30.938865031Z",
     "start_time": "2023-10-29T13:00:30.641871248Z"
    }
   },
   "outputs": [],
   "source": []
  },
  {
   "cell_type": "markdown",
   "id": "438cb1c08ac04b78",
   "metadata": {
    "collapsed": false
   },
   "source": [
    "# Calculate the similarity of preferences"
   ]
  },
  {
   "cell_type": "markdown",
   "id": "1990663a33791ccf",
   "metadata": {
    "collapsed": false
   },
   "source": [
    "## Pereference Matrix\n",
    "One row is the activity rating of a user\n",
    "Each column is an activity"
   ]
  },
  {
   "cell_type": "code",
   "execution_count": 11,
   "id": "26b37c1f39e49260",
   "metadata": {
    "collapsed": false,
    "ExecuteTime": {
     "end_time": "2023-10-29T13:00:30.982540375Z",
     "start_time": "2023-10-29T13:00:30.649939387Z"
    }
   },
   "outputs": [
    {
     "name": "stdout",
     "output_type": "stream",
     "text": [
      "Size of the matrix: 24 bytes\n"
     ]
    }
   ],
   "source": [
    "\n",
    "user_ids = ['Snake','Panda','Tree','Dolphin']\n",
    "preference_matrix = np.array([\n",
    "    [1, 2, 3, 3, 1, 2],\n",
    "    [1, 2, 4, 5, 1, 1],\n",
    "    [5, 5, 3, 0, 5, 1],\n",
    "    [5, 3, 2, 0, 4, 1]\n",
    "], dtype='uint8')\n",
    "size_in_bytes = preference_matrix.nbytes\n",
    "print(f\"Size of the matrix: {size_in_bytes} bytes\")"
   ]
  },
  {
   "cell_type": "markdown",
   "id": "69d4e46513249370",
   "metadata": {
    "collapsed": false
   },
   "source": [
    "Create Huge Matrix to stress test"
   ]
  },
  {
   "cell_type": "code",
   "execution_count": 12,
   "id": "c317ebd2293a265e",
   "metadata": {
    "collapsed": false,
    "ExecuteTime": {
     "end_time": "2023-10-29T13:00:31.051018511Z",
     "start_time": "2023-10-29T13:00:30.658191633Z"
    }
   },
   "outputs": [],
   "source": [
    "# num_users = 10000\n",
    "# num_preferences = 10000\n",
    "# huge_matrix = np.random.randint(0, 256, size=(num_users, num_preferences), dtype=np.uint8)\n",
    "# \n",
    "# preference_matrix = huge_matrix\n",
    "# \n",
    "# size_in_bytes = huge_matrix.nbytes\n",
    "# size_in_gb = size_in_bytes / (1024**3)\n",
    "# \n",
    "# print(f\"Size of the matrix: {size_in_gb:.2f} GB\")"
   ]
  },
  {
   "cell_type": "markdown",
   "id": "1e711e8b0eb75d35",
   "metadata": {
    "collapsed": false
   },
   "source": [
    "## Manual Cos Calc\n",
    "May come in useful later, when we want to calculate it on a per user basis"
   ]
  },
  {
   "cell_type": "code",
   "execution_count": 13,
   "id": "42c007d8220de103",
   "metadata": {
    "collapsed": false,
    "ExecuteTime": {
     "end_time": "2023-10-29T13:00:31.051846361Z",
     "start_time": "2023-10-29T13:00:30.668555016Z"
    }
   },
   "outputs": [],
   "source": [
    "# def cosine_similarity(matrix):\n",
    "#     dot_product = np.dot(matrix, matrix.T)\n",
    "#     #print(dot_product)\n",
    "#     norms = np.linalg.norm(matrix, axis=1)\n",
    "#     # print(norms)\n",
    "#     cosine_sim = dot_product / (np.outer(norms, norms))\n",
    "#     return cosine_sim\n",
    "# \n",
    "# \n",
    "# start_time = time.time()\n",
    "# cosine_sim_matrix = cosine_similarity(preference_matrix)\n",
    "# end_time = time.time()\n",
    "# elapsed_time = end_time - start_time\n",
    "# print(f\"Elapsed time: {elapsed_time} seconds\")\n",
    "# # Print the cosine similarity matrix\n",
    "# print(cosine_sim_matrix)\n"
   ]
  },
  {
   "cell_type": "markdown",
   "id": "4e9181237d3af1a3",
   "metadata": {
    "collapsed": false
   },
   "source": [
    "## Use sklearn to Cos Calc"
   ]
  },
  {
   "cell_type": "code",
   "execution_count": 14,
   "id": "18d5b71c249a74dc",
   "metadata": {
    "collapsed": false,
    "ExecuteTime": {
     "end_time": "2023-10-29T13:00:31.190798091Z",
     "start_time": "2023-10-29T13:00:30.677376504Z"
    }
   },
   "outputs": [
    {
     "name": "stdout",
     "output_type": "stream",
     "text": [
      "Elapsed time: 0.001297 seconds\n",
      "[[1.         0.95470327 0.63543805 0.58609427]\n",
      " [0.95470327 1.         0.51663504 0.46709937]\n",
      " [0.63543805 0.51663504 1.         0.97990505]\n",
      " [0.58609427 0.46709937 0.97990505 1.        ]]\n"
     ]
    }
   ],
   "source": [
    "start_time = time.time()\n",
    "\n",
    "cosine_sim_matrix = cosine_similarity(preference_matrix)\n",
    "end_time = time.time()\n",
    "\n",
    "elapsed_time = end_time - start_time\n",
    "print(f\"Elapsed time: {np.round(elapsed_time,6)} seconds\")\n",
    "\n",
    "\n",
    "print(cosine_sim_matrix)\n"
   ]
  },
  {
   "cell_type": "markdown",
   "id": "324b46088612c4f3",
   "metadata": {
    "collapsed": false
   },
   "source": [
    "## Interpret the result\n",
    "With words..."
   ]
  },
  {
   "cell_type": "code",
   "execution_count": 15,
   "id": "4c43837fa4f45e75",
   "metadata": {
    "collapsed": false,
    "ExecuteTime": {
     "end_time": "2023-10-29T13:00:31.417023171Z",
     "start_time": "2023-10-29T13:00:30.688148621Z"
    }
   },
   "outputs": [
    {
     "name": "stdout",
     "output_type": "stream",
     "text": [
      "Higher Score = Better\n",
      "User Snake gets along with:\n",
      "> user Snake: 0.9999999999999999\n",
      "> user Panda: 0.9547032697824668\n",
      "> user Tree: 0.6354380478103605\n",
      "> user Dolphin: 0.5860942701532693\n",
      "User Panda gets along with:\n",
      "> user Snake: 0.9547032697824668\n",
      "> user Panda: 1.0000000000000002\n",
      "> user Tree: 0.5166350401452484\n",
      "> user Dolphin: 0.46709936649691386\n",
      "User Tree gets along with:\n",
      "> user Snake: 0.6354380478103605\n",
      "> user Panda: 0.5166350401452484\n",
      "> user Tree: 0.9999999999999998\n",
      "> user Dolphin: 0.9799050483303551\n",
      "User Dolphin gets along with:\n",
      "> user Snake: 0.5860942701532693\n",
      "> user Panda: 0.46709936649691386\n",
      "> user Tree: 0.9799050483303551\n",
      "> user Dolphin: 0.9999999999999999\n"
     ]
    }
   ],
   "source": [
    "print('Higher Score = Better')\n",
    "\n",
    "for i, user_pref in enumerate(cosine_sim_matrix):\n",
    "    print(f'User {user_ids[i]} gets along with:')\n",
    "    for j, partner_score in enumerate(user_pref):\n",
    "        print(f\"> user {user_ids[j]}: {partner_score}\")\n",
    "        \n"
   ]
  },
  {
   "cell_type": "code",
   "execution_count": 16,
   "id": "f5af822fe25d115",
   "metadata": {
    "collapsed": false,
    "ExecuteTime": {
     "end_time": "2023-10-29T13:00:31.784027536Z",
     "start_time": "2023-10-29T13:00:30.695920273Z"
    }
   },
   "outputs": [],
   "source": [
    "# preference_list = {}\n",
    "# \n",
    "# for i, user_pref in enumerate(cosine_sim_matrix):\n",
    "#     print(f\"list for {user_ids[i]}\")\n",
    "#     the_list = {score:user_ids[j] for j, score in enumerate(user_pref) if j != i} # j != i If its not the user itself\n",
    "#     print(f'unsorted {the_list}')\n",
    "#     sorted_list = dict(sorted(the_list.items(), reverse=True))\n",
    "#     print(f'sorted {sorted_list}')\n",
    "#     final_list = list(sorted_list.values())\n",
    "#     print(final_list)\n",
    "#     preference_list[user_ids[i]] = final_list\n",
    "#     print('======')\n",
    "# \n",
    "# preference_list\n"
   ]
  },
  {
   "cell_type": "markdown",
   "id": "80bc5734f2764d55",
   "metadata": {
    "collapsed": false
   },
   "source": [
    "## Generate Users"
   ]
  },
  {
   "cell_type": "code",
   "execution_count": 16,
   "id": "5a714455fba00efa",
   "metadata": {
    "collapsed": false,
    "ExecuteTime": {
     "end_time": "2023-10-29T13:00:31.785967165Z",
     "start_time": "2023-10-29T13:00:30.745551622Z"
    }
   },
   "outputs": [],
   "source": [
    "\n",
    "\n",
    "\n"
   ]
  },
  {
   "cell_type": "markdown",
   "id": "922e318bc1a440d5",
   "metadata": {
    "collapsed": false
   },
   "source": [
    "## Cleaned Functions\n",
    "Use these to actually implement it"
   ]
  },
  {
   "cell_type": "code",
   "execution_count": 17,
   "id": "bfe55b16c578ab43",
   "metadata": {
    "collapsed": false,
    "ExecuteTime": {
     "end_time": "2023-10-29T13:00:31.786203567Z",
     "start_time": "2023-10-29T13:00:30.745981751Z"
    }
   },
   "outputs": [],
   "source": [
    "\n",
    "# def get_sorted_list_func(user_ids, user_preferences):\n",
    "#     def get_sorted_list(user_index):\n",
    "#         user_score_list = {user_ids[partner_id]:score for partner_id, score in enumerate(user_preferences[user_index]) if partner_id != user_index}\n",
    "#         user_score_ordered = collections.OrderedDict(sorted(user_score_list.items(), key=lambda item: item[1], reverse=True))\n",
    "#         return list(user_score_ordered)\n",
    "#     return get_sorted_list\n",
    "# \n",
    "# def check_input(user_ids, preference_matrix):\n",
    "#     user_limit = 10000\n",
    "#     if len(user_ids)>user_limit or len(preference_matrix)>user_limit:\n",
    "#         raise ValueError(f\"The user limit is {user_limit}\")\n",
    "#     if len(user_ids) != len(preference_matrix):\n",
    "#         raise ValueError(f\"user list and matrix length do not match\")\n",
    "# \n",
    "# def get_preference_lists(user_ids, preference_matrix):\n",
    "#     check_input(user_ids, preference_matrix)\n",
    "# \n",
    "#     user_preferences = cosine_similarity(preference_matrix)\n",
    "#     get_sorted_list = get_sorted_list_func(user_ids, user_preferences)\n",
    "#     return [get_sorted_list(user_index) for user_index in range(len(user_ids))]\n",
    "# \n",
    "\n",
    "\n"
   ]
  },
  {
   "cell_type": "code",
   "execution_count": 17,
   "id": "8a9f14fee1d3131b",
   "metadata": {
    "collapsed": false,
    "ExecuteTime": {
     "end_time": "2023-10-29T13:00:31.786319114Z",
     "start_time": "2023-10-29T13:00:30.746181086Z"
    }
   },
   "outputs": [],
   "source": []
  },
  {
   "cell_type": "markdown",
   "id": "fea236bf9a26b451",
   "metadata": {
    "collapsed": false
   },
   "source": [
    "## Use the Functions"
   ]
  },
  {
   "cell_type": "code",
   "execution_count": 17,
   "id": "7302285b5d9034d2",
   "metadata": {
    "collapsed": false,
    "ExecuteTime": {
     "end_time": "2023-10-29T13:00:31.786411524Z",
     "start_time": "2023-10-29T13:00:30.746319288Z"
    }
   },
   "outputs": [],
   "source": []
  },
  {
   "cell_type": "code",
   "execution_count": 17,
   "id": "ff595b57e15371f3",
   "metadata": {
    "collapsed": false,
    "ExecuteTime": {
     "end_time": "2023-10-29T13:00:31.786494087Z",
     "start_time": "2023-10-29T13:00:30.746512297Z"
    }
   },
   "outputs": [],
   "source": []
  },
  {
   "cell_type": "code",
   "execution_count": 18,
   "id": "a8a6628dba1b9186",
   "metadata": {
    "collapsed": false,
    "ExecuteTime": {
     "end_time": "2023-10-29T13:00:31.802702745Z",
     "start_time": "2023-10-29T13:00:30.789412171Z"
    }
   },
   "outputs": [
    {
     "ename": "ModuleNotFoundError",
     "evalue": "No module named 'data'",
     "output_type": "error",
     "traceback": [
      "\u001B[0;31m---------------------------------------------------------------------------\u001B[0m",
      "\u001B[0;31mModuleNotFoundError\u001B[0m                       Traceback (most recent call last)",
      "Cell \u001B[0;32mIn[18], line 1\u001B[0m\n\u001B[0;32m----> 1\u001B[0m \u001B[38;5;28;01mfrom\u001B[39;00m \u001B[38;5;21;01mfunctions\u001B[39;00m\u001B[38;5;21;01m.\u001B[39;00m\u001B[38;5;21;01mmatching_users\u001B[39;00m \u001B[38;5;28;01mimport\u001B[39;00m \u001B[38;5;241m*\u001B[39m\n\u001B[1;32m      4\u001B[0m user_ids \u001B[38;5;241m=\u001B[39m [\u001B[38;5;124m'\u001B[39m\u001B[38;5;124mSnake\u001B[39m\u001B[38;5;124m'\u001B[39m,\u001B[38;5;124m'\u001B[39m\u001B[38;5;124mPanda\u001B[39m\u001B[38;5;124m'\u001B[39m,\u001B[38;5;124m'\u001B[39m\u001B[38;5;124mTree\u001B[39m\u001B[38;5;124m'\u001B[39m,\u001B[38;5;124m'\u001B[39m\u001B[38;5;124mDolphin\u001B[39m\u001B[38;5;124m'\u001B[39m,\u001B[38;5;124m'\u001B[39m\u001B[38;5;124mWater\u001B[39m\u001B[38;5;124m'\u001B[39m,\u001B[38;5;124m'\u001B[39m\u001B[38;5;124mBasel\u001B[39m\u001B[38;5;124m'\u001B[39m,\u001B[38;5;124m'\u001B[39m\u001B[38;5;124mTable 16\u001B[39m\u001B[38;5;124m'\u001B[39m]\n\u001B[1;32m      5\u001B[0m preference_matrix \u001B[38;5;241m=\u001B[39m np\u001B[38;5;241m.\u001B[39marray([\n\u001B[1;32m      6\u001B[0m     [\u001B[38;5;241m1\u001B[39m, \u001B[38;5;241m2\u001B[39m, \u001B[38;5;241m3\u001B[39m, \u001B[38;5;241m3\u001B[39m, \u001B[38;5;241m1\u001B[39m, \u001B[38;5;241m2\u001B[39m],\n\u001B[1;32m      7\u001B[0m     [\u001B[38;5;241m1\u001B[39m, \u001B[38;5;241m2\u001B[39m, \u001B[38;5;241m4\u001B[39m, \u001B[38;5;241m5\u001B[39m, \u001B[38;5;241m1\u001B[39m, \u001B[38;5;241m1\u001B[39m],\n\u001B[0;32m   (...)\u001B[0m\n\u001B[1;32m     12\u001B[0m     [\u001B[38;5;241m1\u001B[39m, \u001B[38;5;241m1\u001B[39m, \u001B[38;5;241m1\u001B[39m, \u001B[38;5;241m0\u001B[39m, \u001B[38;5;241m1\u001B[39m, \u001B[38;5;241m1\u001B[39m]\n\u001B[1;32m     13\u001B[0m ], dtype\u001B[38;5;241m=\u001B[39m\u001B[38;5;124m'\u001B[39m\u001B[38;5;124muint8\u001B[39m\u001B[38;5;124m'\u001B[39m)\n",
      "File \u001B[0;32m~/DataspellProjects/randoms/functions/matching_users.py:8\u001B[0m\n\u001B[1;32m      6\u001B[0m \u001B[38;5;28;01mfrom\u001B[39;00m \u001B[38;5;21;01msklearn\u001B[39;00m\u001B[38;5;21;01m.\u001B[39;00m\u001B[38;5;21;01mmetrics\u001B[39;00m\u001B[38;5;21;01m.\u001B[39;00m\u001B[38;5;21;01mpairwise\u001B[39;00m \u001B[38;5;28;01mimport\u001B[39;00m cosine_similarity\n\u001B[1;32m      7\u001B[0m \u001B[38;5;28;01mimport\u001B[39;00m \u001B[38;5;21;01mcollections\u001B[39;00m\n\u001B[0;32m----> 8\u001B[0m \u001B[38;5;28;01mfrom\u001B[39;00m \u001B[38;5;21;01mdata\u001B[39;00m \u001B[38;5;28;01mimport\u001B[39;00m User\n\u001B[1;32m     10\u001B[0m \u001B[38;5;28;01mdef\u001B[39;00m \u001B[38;5;21mget_sorted_list_func\u001B[39m(user_ids, user_preferences):\n\u001B[1;32m     11\u001B[0m     \u001B[38;5;28;01mdef\u001B[39;00m \u001B[38;5;21mget_sorted_list\u001B[39m(user_index):\n",
      "\u001B[0;31mModuleNotFoundError\u001B[0m: No module named 'data'"
     ]
    }
   ],
   "source": [
    "from functions.matching_users import *\n",
    "\n",
    "\n",
    "user_ids = ['Snake','Panda','Tree','Dolphin','Water','Basel','Table 16']\n",
    "preference_matrix = np.array([\n",
    "    [1, 2, 3, 3, 1, 2],\n",
    "    [1, 2, 4, 5, 1, 1],\n",
    "    [5, 5, 3, 0, 5, 1],\n",
    "    [0, 1, 1, 0, 0, 1],\n",
    "    [5, 5, 0, 0, 1, 1],\n",
    "    [4, 3, 3, 0, 5, 1],\n",
    "    [1, 1, 1, 0, 1, 1]\n",
    "], dtype='uint8')\n",
    "size_in_bytes = preference_matrix.nbytes\n",
    "print(f\"Size of the matrix: {size_in_bytes} bytes\")\n",
    "\n",
    "preference_order = get_preference_lists(user_ids, preference_matrix)\n",
    "preference_order\n"
   ]
  },
  {
   "cell_type": "code",
   "execution_count": null,
   "id": "9a29c81b1b0669ff",
   "metadata": {
    "collapsed": false,
    "ExecuteTime": {
     "start_time": "2023-10-29T13:00:30.900982840Z"
    }
   },
   "outputs": [],
   "source": [
    "import json\n",
    "from datetime import date\n",
    "import random\n",
    "from functions.matching_users import *\n",
    "from functions.data import *\n",
    "\n",
    "\n",
    "\n",
    "users = create_fake_users(1000)\n",
    "names_to_player = {x.id: Player(x.id) for x in users}\n",
    "id_to_user = {x.id: x for x in users}\n"
   ]
  },
  {
   "cell_type": "code",
   "execution_count": null,
   "outputs": [],
   "source": [
    "# going to be unique for each user\n",
    "names = [x.id for x in users]\n",
    "pref_matrix = convert_preferences_to_matrix([x.preferences for x in users])\n",
    "preference_order = get_preference_lists(names, pref_matrix)\n"
   ],
   "metadata": {
    "collapsed": false,
    "ExecuteTime": {
     "start_time": "2023-10-29T13:00:30.945861521Z"
    }
   },
   "id": "7e7cc451db51550c"
  },
  {
   "cell_type": "code",
   "execution_count": null,
   "outputs": [],
   "source": [
    "class Match:\n",
    "    def __init__(self, user1: User, user2: User, date: date = date.today()):\n",
    "        self.user1 = user1\n",
    "        self.user2 = user2\n",
    "        self.date = date\n",
    "\n",
    "\n",
    "def match_users(users: list[User]):\n",
    "    return [Match(pair[0], pair[1]) for pair in create_matches_from_users(users)]\n",
    "\n"
   ],
   "metadata": {
    "collapsed": false,
    "ExecuteTime": {
     "start_time": "2023-10-29T13:00:30.946303677Z"
    }
   },
   "id": "ff47e0ae78bb6f08"
  },
  {
   "cell_type": "code",
   "execution_count": null,
   "outputs": [],
   "source": [
    "previous_matches = [(1,2),(1,3),(1,4),(2,5),(6,3),(5,8),(9,8),(9,3),(2,3),(12,4),(12,3),(12,2),(12,1)]\n",
    "\n",
    "def remove_previous_matches(preference_order, previous_matches):\n",
    "\n",
    "    for match in previous_matches:\n",
    "        preference_order[match[0]].pop(preference_order[match[0]].index(match[1]))\n",
    "        preference_order[match[1]].pop(preference_order[match[1]].index(match[0]))\n",
    "\n",
    "    return preference_order"
   ],
   "metadata": {
    "collapsed": false,
    "ExecuteTime": {
     "start_time": "2023-10-29T13:00:30.946588688Z"
    }
   },
   "id": "ebb086ce689d0fc7"
  },
  {
   "cell_type": "code",
   "execution_count": null,
   "outputs": [],
   "source": [],
   "metadata": {
    "collapsed": false,
    "ExecuteTime": {
     "start_time": "2023-10-29T13:00:30.946865468Z"
    }
   },
   "id": "1f27ef170f38dc02"
  },
  {
   "cell_type": "code",
   "execution_count": null,
   "outputs": [],
   "source": [
    "return_list = remove_previous_matches(preference_order, previous_matches)\n"
   ],
   "metadata": {
    "collapsed": false,
    "ExecuteTime": {
     "start_time": "2023-10-29T13:00:30.947137506Z"
    }
   },
   "id": "24346cfead241aa9"
  },
  {
   "cell_type": "code",
   "execution_count": null,
   "outputs": [],
   "source": [],
   "metadata": {
    "collapsed": false,
    "ExecuteTime": {
     "start_time": "2023-10-29T13:00:30.947409511Z"
    }
   },
   "id": "f6c02396f994b7a1"
  },
  {
   "cell_type": "code",
   "execution_count": null,
   "outputs": [],
   "source": [],
   "metadata": {
    "collapsed": false,
    "ExecuteTime": {
     "start_time": "2023-10-29T13:00:30.947953980Z"
    }
   },
   "id": "4b43568fbe9967eb"
  },
  {
   "cell_type": "code",
   "execution_count": null,
   "outputs": [],
   "source": [
    "from matching.algorithms import stable_roommates\n",
    "\n",
    "matches = match_users(users)\n",
    "matches2 = match_users(users)\n",
    "\n",
    "list_of_matches = []\n",
    "\n",
    "for i in range(len(matches)):\n",
    "    user1_same = matches[i].user1 == matches2[i].user1\n",
    "    user2_same = matches[i].user2 == matches2[i].user2\n",
    "    if user1_same and user2_same:\n",
    "        pass\n",
    "    else:\n",
    "        print('Something was different')\n",
    "        break\n",
    "print('done')\n",
    "\n",
    "\n",
    "\n"
   ],
   "metadata": {
    "collapsed": false,
    "ExecuteTime": {
     "start_time": "2023-10-29T13:00:30.948292469Z"
    }
   },
   "id": "eb36b9313a18d88e"
  },
  {
   "cell_type": "code",
   "execution_count": null,
   "id": "37468ad06e3338a6",
   "metadata": {
    "collapsed": false,
    "ExecuteTime": {
     "start_time": "2023-10-29T13:00:30.948528787Z"
    }
   },
   "outputs": [],
   "source": [
    "\n",
    "from functions.data import User\n",
    "# import random\n",
    "# from faker import Faker\n",
    "# \n",
    "# \n",
    "# \n",
    "# def get_workdays():\n",
    "#     random_array = [random.choice([False, True]) for _ in range(5)]\n",
    "#     return [days for nr, days in enumerate(['Mon', 'Tue', 'Wen','Thu','Fri']) if random_array[nr]]\n",
    "# \n",
    "# def get_preferences():\n",
    "#     preference_topics = ['Lord of the Rings', 'Hackatons', 'Console Gaming', 'PC Gaming', 'Humans', 'Bouldering', 'Boxing', 'Football']\n",
    "#     score = [0,0,0,0,0,0,0,0,0,0,1,2,3,4,5]\n",
    "#     return {preference:random.choice(score) for preference in preference_topics}\n",
    "# \n",
    "# def create_fake_users(amount):\n",
    "#     fake = Faker(locale = \"en_GB\")\n",
    "#     return [User(i, {'name':fake.name(),'days':get_workdays(),'preferences':get_preferences()}) for i in range(amount)]\n",
    "#         \n",
    "# \n",
    "# fake_users = create_fake_users(10)\n",
    "# \n",
    "# for u in fake_users:\n",
    "#     print(str(u))\n",
    "\n",
    "\n"
   ]
  },
  {
   "cell_type": "code",
   "execution_count": 19,
   "id": "834dfbfe0b60cb0b",
   "metadata": {
    "collapsed": false,
    "ExecuteTime": {
     "end_time": "2023-10-29T13:00:39.548569227Z",
     "start_time": "2023-10-29T13:00:39.177176147Z"
    }
   },
   "outputs": [
    {
     "name": "stderr",
     "output_type": "stream",
     "text": [
      "/home/baaaka/DataspellProjects/randoms/venv/lib/python3.10/site-packages/google/rpc/__init__.py:20: DeprecationWarning: Deprecated call to `pkg_resources.declare_namespace('google.rpc')`.\n",
      "Implementing implicit namespace packages (as specified in PEP 420) is preferred to `pkg_resources.declare_namespace`. See https://setuptools.pypa.io/en/latest/references/keywords.html#keyword-namespace-packages\n",
      "  pkg_resources.declare_namespace(__name__)\n",
      "/home/baaaka/DataspellProjects/randoms/venv/lib/python3.10/site-packages/pkg_resources/__init__.py:2350: DeprecationWarning: Deprecated call to `pkg_resources.declare_namespace('google')`.\n",
      "Implementing implicit namespace packages (as specified in PEP 420) is preferred to `pkg_resources.declare_namespace`. See https://setuptools.pypa.io/en/latest/references/keywords.html#keyword-namespace-packages\n",
      "  declare_namespace(parent)\n"
     ]
    }
   ],
   "source": [
    "from functions.data import create_fake_users"
   ]
  },
  {
   "cell_type": "code",
   "execution_count": 20,
   "id": "4180d228b79f25f3",
   "metadata": {
    "collapsed": false,
    "ExecuteTime": {
     "end_time": "2023-10-29T13:00:39.720026356Z",
     "start_time": "2023-10-29T13:00:39.646626439Z"
    }
   },
   "outputs": [
    {
     "name": "stdout",
     "output_type": "stream",
     "text": [
      "{\"name\": \"Bernard Fraser\", \"days\": [\"Wed\", \"Thu\", \"Fri\"], \"preferences\": {\"Sports\": 3, \"Eating\": 0, \"Board Games\": 1, \"Video Games\": 0, \"Coffee Enthusiasm\": 4, \"Tea Appreciation\": 2, \"Nightlife and Parties\": 4, \"Nature and Greenery\": 0, \"Books\": 5, \"Anime and Manga\": 1}, \"id\": 0}\n",
      "{\"name\": \"Miss Josephine Cooper\", \"days\": [\"Mon\"], \"preferences\": {\"Sports\": 0, \"Eating\": 3, \"Board Games\": 0, \"Video Games\": 0, \"Coffee Enthusiasm\": 0, \"Tea Appreciation\": 0, \"Nightlife and Parties\": 0, \"Nature and Greenery\": 0, \"Books\": 0, \"Anime and Manga\": 0}, \"id\": 1}\n",
      "{\"name\": \"Mr Glenn Stevens\", \"days\": [\"Mon\", \"Tue\", \"Fri\"], \"preferences\": {\"Sports\": 4, \"Eating\": 0, \"Board Games\": 0, \"Video Games\": 0, \"Coffee Enthusiasm\": 4, \"Tea Appreciation\": 0, \"Nightlife and Parties\": 0, \"Nature and Greenery\": 1, \"Books\": 0, \"Anime and Manga\": 0}, \"id\": 2}\n",
      "{\"name\": \"Dr Martyn Turner\", \"days\": [\"Tue\", \"Fri\"], \"preferences\": {\"Sports\": 2, \"Eating\": 0, \"Board Games\": 2, \"Video Games\": 3, \"Coffee Enthusiasm\": 1, \"Tea Appreciation\": 0, \"Nightlife and Parties\": 0, \"Nature and Greenery\": 0, \"Books\": 0, \"Anime and Manga\": 0}, \"id\": 3}\n",
      "{\"name\": \"Kieran Lamb\", \"days\": [\"Mon\", \"Tue\", \"Thu\", \"Fri\"], \"preferences\": {\"Sports\": 0, \"Eating\": 4, \"Board Games\": 2, \"Video Games\": 0, \"Coffee Enthusiasm\": 0, \"Tea Appreciation\": 0, \"Nightlife and Parties\": 0, \"Nature and Greenery\": 3, \"Books\": 1, \"Anime and Manga\": 5}, \"id\": 4}\n",
      "{\"name\": \"Joshua Jenkins\", \"days\": [], \"preferences\": {\"Sports\": 0, \"Eating\": 0, \"Board Games\": 2, \"Video Games\": 1, \"Coffee Enthusiasm\": 0, \"Tea Appreciation\": 0, \"Nightlife and Parties\": 0, \"Nature and Greenery\": 0, \"Books\": 0, \"Anime and Manga\": 0}, \"id\": 5}\n",
      "{\"name\": \"George Lee-Russell\", \"days\": [\"Wed\", \"Thu\"], \"preferences\": {\"Sports\": 0, \"Eating\": 0, \"Board Games\": 0, \"Video Games\": 3, \"Coffee Enthusiasm\": 0, \"Tea Appreciation\": 0, \"Nightlife and Parties\": 0, \"Nature and Greenery\": 0, \"Books\": 4, \"Anime and Manga\": 4}, \"id\": 6}\n",
      "{\"name\": \"Yvonne Hughes\", \"days\": [\"Tue\", \"Thu\"], \"preferences\": {\"Sports\": 0, \"Eating\": 1, \"Board Games\": 0, \"Video Games\": 5, \"Coffee Enthusiasm\": 0, \"Tea Appreciation\": 2, \"Nightlife and Parties\": 0, \"Nature and Greenery\": 1, \"Books\": 0, \"Anime and Manga\": 3}, \"id\": 7}\n",
      "{\"name\": \"Nathan Whitehead\", \"days\": [\"Tue\", \"Thu\", \"Fri\"], \"preferences\": {\"Sports\": 0, \"Eating\": 5, \"Board Games\": 0, \"Video Games\": 0, \"Coffee Enthusiasm\": 0, \"Tea Appreciation\": 0, \"Nightlife and Parties\": 2, \"Nature and Greenery\": 0, \"Books\": 0, \"Anime and Manga\": 0}, \"id\": 8}\n",
      "{\"name\": \"Mr Ronald Russell\", \"days\": [\"Mon\", \"Tue\", \"Thu\", \"Fri\"], \"preferences\": {\"Sports\": 0, \"Eating\": 0, \"Board Games\": 0, \"Video Games\": 1, \"Coffee Enthusiasm\": 0, \"Tea Appreciation\": 0, \"Nightlife and Parties\": 5, \"Nature and Greenery\": 3, \"Books\": 5, \"Anime and Manga\": 0}, \"id\": 9}\n"
     ]
    }
   ],
   "source": [
    "fake_users = create_fake_users(10)\n",
    "\n",
    "for u in fake_users:\n",
    "    print(str(u))"
   ]
  },
  {
   "cell_type": "code",
   "execution_count": 24,
   "id": "96ddc60b5e5f3caa",
   "metadata": {
    "collapsed": false,
    "ExecuteTime": {
     "end_time": "2023-10-29T13:01:01.101866800Z",
     "start_time": "2023-10-29T13:01:01.051946418Z"
    }
   },
   "outputs": [],
   "source": [
    "import os\n",
    "\n",
    "current_directory = os.getcwd()\n",
    "\n",
    "new_directory = '../functions'\n",
    "\n",
    "os.chdir(new_directory)\n",
    "\n"
   ]
  },
  {
   "cell_type": "code",
   "execution_count": 25,
   "outputs": [],
   "source": [
    "\n",
    "fu = create_fake_users(10)"
   ],
   "metadata": {
    "collapsed": false,
    "ExecuteTime": {
     "end_time": "2023-10-29T13:01:01.297109787Z",
     "start_time": "2023-10-29T13:01:01.236676224Z"
    }
   },
   "id": "e8822aa2a9202547"
  },
  {
   "cell_type": "code",
   "execution_count": 31,
   "outputs": [],
   "source": [],
   "metadata": {
    "collapsed": false,
    "ExecuteTime": {
     "end_time": "2023-10-29T13:02:10.748758860Z",
     "start_time": "2023-10-29T13:02:10.728109740Z"
    }
   },
   "id": "48cb3be35c2c6751"
  },
  {
   "cell_type": "code",
   "execution_count": 32,
   "outputs": [],
   "source": [
    "from functions.matching_users import *\n",
    "from functions.main import match_users\n",
    "matches = match_users(fu)"
   ],
   "metadata": {
    "collapsed": false,
    "ExecuteTime": {
     "end_time": "2023-10-29T13:02:11.143722060Z",
     "start_time": "2023-10-29T13:02:11.125379096Z"
    }
   },
   "id": "ced35fce634e8d68"
  },
  {
   "cell_type": "code",
   "execution_count": 33,
   "outputs": [],
   "source": [
    "# 100 96ms\n",
    "# 1000 30 seconds\n",
    "# 10000\n",
    "# \\frac{x^{2.4}}{1000000}"
   ],
   "metadata": {
    "collapsed": false,
    "ExecuteTime": {
     "end_time": "2023-10-29T13:02:11.683758043Z",
     "start_time": "2023-10-29T13:02:11.668115312Z"
    }
   },
   "id": "5f572900f411b8a4"
  },
  {
   "cell_type": "code",
   "execution_count": 34,
   "outputs": [
    {
     "name": "stdout",
     "output_type": "stream",
     "text": [
      "Denise Wilson || Ellie Taylor\n",
      "Graham Collins || Mr Garry McDonald\n",
      "Ellie Taylor || Denise Wilson\n",
      "Kathryn Joyce || Francesca Smith-Davis\n",
      "Patrick Lloyd || Judith Morris\n",
      "Anthony Jones || Elliott Lewis\n",
      "Mr Garry McDonald || Graham Collins\n",
      "Elliott Lewis || Anthony Jones\n",
      "Judith Morris || Patrick Lloyd\n",
      "Francesca Smith-Davis || Kathryn Joyce\n"
     ]
    }
   ],
   "source": [
    "for a in matches:\n",
    "    print('{} || {}'.format(a.user1.name, a.user2.name))"
   ],
   "metadata": {
    "collapsed": false,
    "ExecuteTime": {
     "end_time": "2023-10-29T13:02:12.042855811Z",
     "start_time": "2023-10-29T13:02:12.027178675Z"
    }
   },
   "id": "f10d96ee022b2126"
  },
  {
   "cell_type": "markdown",
   "source": [
    "Denise Wilson || Kathryn Joyce\n",
    "Graham Collins || Mr Garry McDonald\n",
    "Ellie Taylor || Francesca Smith-Davis\n",
    "Kathryn Joyce || Denise Wilson\n",
    "Patrick Lloyd || Judith Morris\n",
    "Anthony Jones || Elliott Lewis\n",
    "Mr Garry McDonald || Graham Collins\n",
    "Elliott Lewis || Anthony Jones\n",
    "Judith Morris || Patrick Lloyd\n",
    "Francesca Smith-Davis || Ellie Taylor"
   ],
   "metadata": {
    "collapsed": false
   },
   "id": "45d642571af85db"
  },
  {
   "cell_type": "code",
   "execution_count": null,
   "outputs": [],
   "source": [],
   "metadata": {
    "collapsed": false,
    "ExecuteTime": {
     "start_time": "2023-10-29T13:00:30.991201554Z"
    }
   },
   "id": "76ba9c59eaba58df"
  },
  {
   "cell_type": "code",
   "execution_count": null,
   "outputs": [],
   "source": [],
   "metadata": {
    "collapsed": false,
    "ExecuteTime": {
     "start_time": "2023-10-29T13:00:31.037491228Z"
    }
   },
   "id": "7cd1de98b8fa2451"
  }
 ],
 "metadata": {
  "kernelspec": {
   "display_name": "Python 3",
   "language": "python",
   "name": "python3"
  },
  "language_info": {
   "codemirror_mode": {
    "name": "ipython",
    "version": 2
   },
   "file_extension": ".py",
   "mimetype": "text/x-python",
   "name": "python",
   "nbconvert_exporter": "python",
   "pygments_lexer": "ipython2",
   "version": "3.12.0"
  }
 },
 "nbformat": 4,
 "nbformat_minor": 5
}
