{
 "cells": [
  {
   "cell_type": "code",
   "execution_count": null,
   "id": "initial_id",
   "metadata": {
    "collapsed": true,
    "ExecuteTime": {
     "end_time": "2023-10-28T11:39:23.445329173Z",
     "start_time": "2023-10-28T11:39:23.353037867Z"
    }
   },
   "outputs": [],
   "source": []
  },
  {
   "cell_type": "code",
   "execution_count": null,
   "outputs": [],
   "source": [],
   "metadata": {
    "collapsed": false,
    "ExecuteTime": {
     "end_time": "2023-10-28T11:39:23.446295745Z",
     "start_time": "2023-10-28T11:39:23.398181761Z"
    }
   },
   "id": "3b50d41a9f16ce5b"
  },
  {
   "cell_type": "code",
   "execution_count": null,
   "outputs": [],
   "source": [],
   "metadata": {
    "collapsed": false,
    "ExecuteTime": {
     "end_time": "2023-10-28T11:39:23.446849649Z",
     "start_time": "2023-10-28T11:39:23.398804455Z"
    }
   },
   "id": "65d0fd8af0d27c74"
  },
  {
   "cell_type": "code",
   "execution_count": 1,
   "outputs": [],
   "source": [
    "from matching import Player\n",
    "\n",
    "players = [\n",
    "    Player(\"jerry\"),\n",
    "    Player(\"george\"),\n",
    "    Player(\"kramer\"),\n",
    "    Player(\"elaine\"),\n",
    "]"
   ],
   "metadata": {
    "collapsed": false,
    "ExecuteTime": {
     "end_time": "2023-10-28T11:39:23.447311543Z",
     "start_time": "2023-10-28T11:39:23.399263353Z"
    }
   },
   "id": "6b884d2e66086451"
  },
  {
   "cell_type": "code",
   "execution_count": 2,
   "outputs": [],
   "source": [
    "jerry, george, elaine, kramer = players\n",
    "\n",
    "jerry.set_prefs([george, elaine, kramer])\n",
    "george.set_prefs([jerry, kramer, elaine])\n",
    "elaine.set_prefs([jerry, kramer, george])\n",
    "kramer.set_prefs([elaine, george, jerry])"
   ],
   "metadata": {
    "collapsed": false,
    "ExecuteTime": {
     "end_time": "2023-10-28T11:39:23.447696173Z",
     "start_time": "2023-10-28T11:39:23.404728640Z"
    }
   },
   "id": "bcf62e9759f544ac"
  },
  {
   "cell_type": "code",
   "execution_count": 3,
   "outputs": [],
   "source": [
    "from matching.games import StableRoommates\n",
    "\n",
    "game = StableRoommates(players)"
   ],
   "metadata": {
    "collapsed": false,
    "ExecuteTime": {
     "end_time": "2023-10-28T11:39:23.454741300Z",
     "start_time": "2023-10-28T11:39:23.412006817Z"
    }
   },
   "id": "b4c52914bbec8068"
  },
  {
   "cell_type": "code",
   "execution_count": 4,
   "outputs": [
    {
     "data": {
      "text/plain": "{jerry: george, george: jerry, kramer: elaine, elaine: kramer}"
     },
     "execution_count": 4,
     "metadata": {},
     "output_type": "execute_result"
    }
   ],
   "source": [
    "game.solve()"
   ],
   "metadata": {
    "collapsed": false,
    "ExecuteTime": {
     "end_time": "2023-10-28T11:39:23.543800652Z",
     "start_time": "2023-10-28T11:39:23.433303719Z"
    }
   },
   "id": "b2e69a779bae9507"
  },
  {
   "cell_type": "markdown",
   "source": [
    "## Pereference Matrix\n",
    "One row is the activity rating of a user\n",
    "Each column is an activity"
   ],
   "metadata": {
    "collapsed": false
   },
   "id": "1990663a33791ccf"
  },
  {
   "cell_type": "code",
   "execution_count": 31,
   "outputs": [
    {
     "data": {
      "text/plain": "array([[1, 2, 3, 3, 1, 2],\n       [1, 2, 4, 5, 1, 1],\n       [5, 5, 3, 0, 5, 1],\n       [5, 3, 2, 0, 4, 1]])"
     },
     "execution_count": 31,
     "metadata": {},
     "output_type": "execute_result"
    }
   ],
   "source": [
    "import numpy as np\n",
    "\n",
    "users = ['Snake','Panda','Tree','Dolphin']\n",
    "preference_matrix = np.array([\n",
    "    [1, 2, 3, 3, 1, 2],\n",
    "    [1, 2, 4, 5, 1, 1],\n",
    "    [5, 5, 3, 0, 5, 1],\n",
    "    [5, 3, 2, 0, 4, 1]\n",
    "])\n",
    "preference_matrix\n"
   ],
   "metadata": {
    "collapsed": false,
    "ExecuteTime": {
     "end_time": "2023-10-28T12:10:13.616998229Z",
     "start_time": "2023-10-28T12:10:13.595899206Z"
    }
   },
   "id": "26b37c1f39e49260"
  },
  {
   "cell_type": "markdown",
   "source": [
    "# "
   ],
   "metadata": {
    "collapsed": false
   },
   "id": "a548d60cd59fd9a0"
  },
  {
   "cell_type": "code",
   "execution_count": 30,
   "outputs": [
    {
     "name": "stdout",
     "output_type": "stream",
     "text": [
      "[[28 35 31 23]\n",
      " [35 48 33 24]\n",
      " [31 33 85 67]\n",
      " [23 24 67 55]]\n",
      "[5.29150262 6.92820323 9.21954446 7.41619849]\n",
      "[[1.         0.95470327 0.63543805 0.58609427]\n",
      " [0.95470327 1.         0.51663504 0.46709937]\n",
      " [0.63543805 0.51663504 1.         0.97990505]\n",
      " [0.58609427 0.46709937 0.97990505 1.        ]]\n"
     ]
    }
   ],
   "source": [
    "def cosine_similarity(matrix):\n",
    "    dot_product = np.dot(matrix, matrix.T)\n",
    "    print(dot_product)\n",
    "    norms = np.linalg.norm(matrix, axis=1)\n",
    "    print(norms)\n",
    "    cosine_sim = dot_product / (np.outer(norms, norms))\n",
    "    return cosine_sim\n",
    "\n",
    "cosine_sim_matrix = cosine_similarity(preference_matrix)\n",
    "\n",
    "# Print the cosine similarity matrix\n",
    "print(cosine_sim_matrix)\n"
   ],
   "metadata": {
    "collapsed": false,
    "ExecuteTime": {
     "end_time": "2023-10-28T12:05:55.326617751Z",
     "start_time": "2023-10-28T12:05:55.277872234Z"
    }
   },
   "id": "42c007d8220de103"
  },
  {
   "cell_type": "markdown",
   "source": [
    "## Interpret the result"
   ],
   "metadata": {
    "collapsed": false
   },
   "id": "324b46088612c4f3"
  },
  {
   "cell_type": "code",
   "execution_count": 32,
   "outputs": [
    {
     "name": "stdout",
     "output_type": "stream",
     "text": [
      "Higher Score = Better\n",
      "User Snake gets along with:\n",
      "> user Snake: 0.9999999999999999\n",
      "> user Panda: 0.9547032697824667\n",
      "> user Tree: 0.6354380478103605\n",
      "> user Dolphin: 0.5860942701532693\n",
      "User Panda gets along with:\n",
      "> user Snake: 0.9547032697824667\n",
      "> user Panda: 1.0000000000000002\n",
      "> user Tree: 0.5166350401452483\n",
      "> user Dolphin: 0.46709936649691386\n",
      "User Tree gets along with:\n",
      "> user Snake: 0.6354380478103605\n",
      "> user Panda: 0.5166350401452483\n",
      "> user Tree: 1.0\n",
      "> user Dolphin: 0.979905048330355\n",
      "User Dolphin gets along with:\n",
      "> user Snake: 0.5860942701532693\n",
      "> user Panda: 0.46709936649691386\n",
      "> user Tree: 0.979905048330355\n",
      "> user Dolphin: 1.0\n"
     ]
    }
   ],
   "source": [
    "print('Higher Score = Better')\n",
    "\n",
    "for i, user_pref in enumerate(cosine_sim_matrix):\n",
    "    print(f'User {users[i]} gets along with:')\n",
    "    for j, partner_score in enumerate(user_pref):\n",
    "        print(f\"> user {users[j]}: {partner_score}\")\n",
    "        \n"
   ],
   "metadata": {
    "collapsed": false,
    "ExecuteTime": {
     "end_time": "2023-10-28T12:10:31.641140817Z",
     "start_time": "2023-10-28T12:10:31.627905235Z"
    }
   },
   "id": "4c43837fa4f45e75"
  },
  {
   "cell_type": "code",
   "execution_count": 52,
   "outputs": [
    {
     "name": "stdout",
     "output_type": "stream",
     "text": [
      "list for Snake\n",
      "unsorted {0.9547032697824667: 'Panda', 0.6354380478103605: 'Tree', 0.5860942701532693: 'Dolphin'}\n",
      "sorted {0.9547032697824667: 'Panda', 0.6354380478103605: 'Tree', 0.5860942701532693: 'Dolphin'}\n",
      "['Panda', 'Tree', 'Dolphin']\n",
      "======\n",
      "list for Panda\n",
      "unsorted {0.9547032697824667: 'Snake', 0.5166350401452483: 'Tree', 0.46709936649691386: 'Dolphin'}\n",
      "sorted {0.9547032697824667: 'Snake', 0.5166350401452483: 'Tree', 0.46709936649691386: 'Dolphin'}\n",
      "['Snake', 'Tree', 'Dolphin']\n",
      "======\n",
      "list for Tree\n",
      "unsorted {0.6354380478103605: 'Snake', 0.5166350401452483: 'Panda', 0.979905048330355: 'Dolphin'}\n",
      "sorted {0.979905048330355: 'Dolphin', 0.6354380478103605: 'Snake', 0.5166350401452483: 'Panda'}\n",
      "['Dolphin', 'Snake', 'Panda']\n",
      "======\n",
      "list for Dolphin\n",
      "unsorted {0.5860942701532693: 'Snake', 0.46709936649691386: 'Panda', 0.979905048330355: 'Tree'}\n",
      "sorted {0.979905048330355: 'Tree', 0.5860942701532693: 'Snake', 0.46709936649691386: 'Panda'}\n",
      "['Tree', 'Snake', 'Panda']\n",
      "======\n"
     ]
    },
    {
     "data": {
      "text/plain": "{'Snake': ['Panda', 'Tree', 'Dolphin'],\n 'Panda': ['Snake', 'Tree', 'Dolphin'],\n 'Tree': ['Dolphin', 'Snake', 'Panda'],\n 'Dolphin': ['Tree', 'Snake', 'Panda']}"
     },
     "execution_count": 52,
     "metadata": {},
     "output_type": "execute_result"
    }
   ],
   "source": [
    "preference_list = {}\n",
    "\n",
    "for i, user_pref in enumerate(cosine_sim_matrix):\n",
    "    print(f\"list for {users[i]}\")\n",
    "    the_list = {score:users[j] for j, score in enumerate(user_pref) if j != i} # j != i If its not the user itself\n",
    "    print(f'unsorted {the_list}')\n",
    "    sorted_list = dict(sorted(the_list.items(), reverse=True))\n",
    "    print(f'sorted {sorted_list}')\n",
    "    final_list = list(sorted_list.values())\n",
    "    print(final_list)\n",
    "    preference_list[users[i]] = final_list\n",
    "    print('======')\n",
    "\n",
    "\n",
    "\n",
    "preference_list\n"
   ],
   "metadata": {
    "collapsed": false,
    "ExecuteTime": {
     "end_time": "2023-10-28T12:29:06.415172242Z",
     "start_time": "2023-10-28T12:29:06.353725183Z"
    }
   },
   "id": "f5af822fe25d115"
  },
  {
   "cell_type": "code",
   "execution_count": 44,
   "outputs": [],
   "source": [],
   "metadata": {
    "collapsed": false,
    "ExecuteTime": {
     "end_time": "2023-10-28T12:23:24.454517586Z",
     "start_time": "2023-10-28T12:23:24.445789608Z"
    }
   },
   "id": "bfe55b16c578ab43"
  },
  {
   "cell_type": "code",
   "execution_count": 6,
   "outputs": [],
   "source": [],
   "metadata": {
    "collapsed": false,
    "ExecuteTime": {
     "end_time": "2023-10-28T11:53:00.053392835Z",
     "start_time": "2023-10-28T11:53:00.005031196Z"
    }
   },
   "id": "8a9f14fee1d3131b"
  },
  {
   "cell_type": "code",
   "execution_count": null,
   "outputs": [],
   "source": [],
   "metadata": {
    "collapsed": false
   },
   "id": "7302285b5d9034d2"
  }
 ],
 "metadata": {
  "kernelspec": {
   "display_name": "Python 3",
   "language": "python",
   "name": "python3"
  },
  "language_info": {
   "codemirror_mode": {
    "name": "ipython",
    "version": 2
   },
   "file_extension": ".py",
   "mimetype": "text/x-python",
   "name": "python",
   "nbconvert_exporter": "python",
   "pygments_lexer": "ipython2",
   "version": "2.7.6"
  }
 },
 "nbformat": 4,
 "nbformat_minor": 5
}
