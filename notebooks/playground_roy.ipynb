{
 "cells": [
  {
   "cell_type": "code",
   "execution_count": 1,
   "id": "initial_id",
   "metadata": {
    "collapsed": true,
    "ExecuteTime": {
     "end_time": "2023-10-28T18:19:23.959560831Z",
     "start_time": "2023-10-28T18:19:22.851954892Z"
    }
   },
   "outputs": [],
   "source": [
    "import time\n",
    "import numpy as np\n",
    "from sklearn.metrics.pairwise import cosine_similarity\n",
    "import collections\n",
    "from matching import Player\n",
    "from matching.games import StableRoommates\n"
   ]
  },
  {
   "cell_type": "code",
   "execution_count": 1,
   "outputs": [],
   "source": [],
   "metadata": {
    "collapsed": false,
    "ExecuteTime": {
     "end_time": "2023-10-28T18:19:23.984391872Z",
     "start_time": "2023-10-28T18:19:23.962330458Z"
    }
   },
   "id": "3b50d41a9f16ce5b"
  },
  {
   "cell_type": "code",
   "execution_count": 1,
   "outputs": [],
   "source": [],
   "metadata": {
    "collapsed": false,
    "ExecuteTime": {
     "end_time": "2023-10-28T18:19:23.985180363Z",
     "start_time": "2023-10-28T18:19:23.968130156Z"
    }
   },
   "id": "65d0fd8af0d27c74"
  },
  {
   "cell_type": "markdown",
   "source": [
    "# Calculate the similarity of preferences"
   ],
   "metadata": {
    "collapsed": false
   },
   "id": "438cb1c08ac04b78"
  },
  {
   "cell_type": "markdown",
   "source": [
    "## Pereference Matrix\n",
    "One row is the activity rating of a user\n",
    "Each column is an activity"
   ],
   "metadata": {
    "collapsed": false
   },
   "id": "1990663a33791ccf"
  },
  {
   "cell_type": "code",
   "execution_count": 2,
   "outputs": [
    {
     "name": "stdout",
     "output_type": "stream",
     "text": [
      "Size of the matrix: 24 bytes\n"
     ]
    }
   ],
   "source": [
    "\n",
    "user_ids = ['Snake','Panda','Tree','Dolphin']\n",
    "preference_matrix = np.array([\n",
    "    [1, 2, 3, 3, 1, 2],\n",
    "    [1, 2, 4, 5, 1, 1],\n",
    "    [5, 5, 3, 0, 5, 1],\n",
    "    [5, 3, 2, 0, 4, 1]\n",
    "], dtype='uint8')\n",
    "size_in_bytes = preference_matrix.nbytes\n",
    "print(f\"Size of the matrix: {size_in_bytes} bytes\")"
   ],
   "metadata": {
    "collapsed": false,
    "ExecuteTime": {
     "end_time": "2023-10-28T18:19:24.001606697Z",
     "start_time": "2023-10-28T18:19:23.981468493Z"
    }
   },
   "id": "26b37c1f39e49260"
  },
  {
   "cell_type": "markdown",
   "source": [
    "Create Huge Matrix to stress test"
   ],
   "metadata": {
    "collapsed": false
   },
   "id": "69d4e46513249370"
  },
  {
   "cell_type": "code",
   "execution_count": 3,
   "outputs": [],
   "source": [
    "# num_users = 10000\n",
    "# num_preferences = 10000\n",
    "# huge_matrix = np.random.randint(0, 256, size=(num_users, num_preferences), dtype=np.uint8)\n",
    "# \n",
    "# preference_matrix = huge_matrix\n",
    "# \n",
    "# size_in_bytes = huge_matrix.nbytes\n",
    "# size_in_gb = size_in_bytes / (1024**3)\n",
    "# \n",
    "# print(f\"Size of the matrix: {size_in_gb:.2f} GB\")"
   ],
   "metadata": {
    "collapsed": false,
    "ExecuteTime": {
     "end_time": "2023-10-28T18:19:24.080171024Z",
     "start_time": "2023-10-28T18:19:23.992660244Z"
    }
   },
   "id": "c317ebd2293a265e"
  },
  {
   "cell_type": "markdown",
   "source": [
    "## Manual Cos Calc\n",
    "May come in useful later, when we want to calculate it on a per user basis"
   ],
   "metadata": {
    "collapsed": false
   },
   "id": "1e711e8b0eb75d35"
  },
  {
   "cell_type": "code",
   "execution_count": 4,
   "outputs": [],
   "source": [
    "# def cosine_similarity(matrix):\n",
    "#     dot_product = np.dot(matrix, matrix.T)\n",
    "#     #print(dot_product)\n",
    "#     norms = np.linalg.norm(matrix, axis=1)\n",
    "#     # print(norms)\n",
    "#     cosine_sim = dot_product / (np.outer(norms, norms))\n",
    "#     return cosine_sim\n",
    "# \n",
    "# \n",
    "# start_time = time.time()\n",
    "# cosine_sim_matrix = cosine_similarity(preference_matrix)\n",
    "# end_time = time.time()\n",
    "# elapsed_time = end_time - start_time\n",
    "# print(f\"Elapsed time: {elapsed_time} seconds\")\n",
    "# # Print the cosine similarity matrix\n",
    "# print(cosine_sim_matrix)\n"
   ],
   "metadata": {
    "collapsed": false,
    "ExecuteTime": {
     "end_time": "2023-10-28T18:19:24.106425980Z",
     "start_time": "2023-10-28T18:19:24.035714741Z"
    }
   },
   "id": "42c007d8220de103"
  },
  {
   "cell_type": "markdown",
   "source": [
    "## Use sklearn to Cos Calc"
   ],
   "metadata": {
    "collapsed": false
   },
   "id": "4e9181237d3af1a3"
  },
  {
   "cell_type": "code",
   "execution_count": 5,
   "outputs": [
    {
     "name": "stdout",
     "output_type": "stream",
     "text": [
      "Elapsed time: 0.001875 seconds\n",
      "[[1.         0.95470327 0.63543805 0.58609427]\n",
      " [0.95470327 1.         0.51663504 0.46709937]\n",
      " [0.63543805 0.51663504 1.         0.97990505]\n",
      " [0.58609427 0.46709937 0.97990505 1.        ]]\n"
     ]
    }
   ],
   "source": [
    "start_time = time.time()\n",
    "\n",
    "cosine_sim_matrix = cosine_similarity(preference_matrix)\n",
    "end_time = time.time()\n",
    "\n",
    "elapsed_time = end_time - start_time\n",
    "print(f\"Elapsed time: {np.round(elapsed_time,6)} seconds\")\n",
    "\n",
    "\n",
    "print(cosine_sim_matrix)\n"
   ],
   "metadata": {
    "collapsed": false,
    "ExecuteTime": {
     "end_time": "2023-10-28T18:19:24.107742062Z",
     "start_time": "2023-10-28T18:19:24.036246017Z"
    }
   },
   "id": "18d5b71c249a74dc"
  },
  {
   "cell_type": "markdown",
   "source": [
    "## Interpret the result\n",
    "With words..."
   ],
   "metadata": {
    "collapsed": false
   },
   "id": "324b46088612c4f3"
  },
  {
   "cell_type": "code",
   "execution_count": 6,
   "outputs": [
    {
     "name": "stdout",
     "output_type": "stream",
     "text": [
      "Higher Score = Better\n",
      "User Snake gets along with:\n",
      "> user Snake: 0.9999999999999999\n",
      "> user Panda: 0.9547032697824668\n",
      "> user Tree: 0.6354380478103605\n",
      "> user Dolphin: 0.5860942701532693\n",
      "User Panda gets along with:\n",
      "> user Snake: 0.9547032697824668\n",
      "> user Panda: 1.0000000000000002\n",
      "> user Tree: 0.5166350401452484\n",
      "> user Dolphin: 0.46709936649691386\n",
      "User Tree gets along with:\n",
      "> user Snake: 0.6354380478103605\n",
      "> user Panda: 0.5166350401452484\n",
      "> user Tree: 0.9999999999999998\n",
      "> user Dolphin: 0.9799050483303551\n",
      "User Dolphin gets along with:\n",
      "> user Snake: 0.5860942701532693\n",
      "> user Panda: 0.46709936649691386\n",
      "> user Tree: 0.9799050483303551\n",
      "> user Dolphin: 0.9999999999999999\n"
     ]
    }
   ],
   "source": [
    "print('Higher Score = Better')\n",
    "\n",
    "for i, user_pref in enumerate(cosine_sim_matrix):\n",
    "    print(f'User {user_ids[i]} gets along with:')\n",
    "    for j, partner_score in enumerate(user_pref):\n",
    "        print(f\"> user {user_ids[j]}: {partner_score}\")\n",
    "        \n"
   ],
   "metadata": {
    "collapsed": false,
    "ExecuteTime": {
     "end_time": "2023-10-28T18:19:24.136147584Z",
     "start_time": "2023-10-28T18:19:24.083781599Z"
    }
   },
   "id": "4c43837fa4f45e75"
  },
  {
   "cell_type": "code",
   "execution_count": 7,
   "outputs": [],
   "source": [
    "# preference_list = {}\n",
    "# \n",
    "# for i, user_pref in enumerate(cosine_sim_matrix):\n",
    "#     print(f\"list for {user_ids[i]}\")\n",
    "#     the_list = {score:user_ids[j] for j, score in enumerate(user_pref) if j != i} # j != i If its not the user itself\n",
    "#     print(f'unsorted {the_list}')\n",
    "#     sorted_list = dict(sorted(the_list.items(), reverse=True))\n",
    "#     print(f'sorted {sorted_list}')\n",
    "#     final_list = list(sorted_list.values())\n",
    "#     print(final_list)\n",
    "#     preference_list[user_ids[i]] = final_list\n",
    "#     print('======')\n",
    "# \n",
    "# preference_list\n"
   ],
   "metadata": {
    "collapsed": false,
    "ExecuteTime": {
     "end_time": "2023-10-28T18:19:24.136763002Z",
     "start_time": "2023-10-28T18:19:24.084028934Z"
    }
   },
   "id": "f5af822fe25d115"
  },
  {
   "cell_type": "markdown",
   "source": [
    "## Generate Users"
   ],
   "metadata": {
    "collapsed": false
   },
   "id": "80bc5734f2764d55"
  },
  {
   "cell_type": "code",
   "execution_count": 7,
   "outputs": [],
   "source": [
    "\n",
    "\n",
    "\n"
   ],
   "metadata": {
    "collapsed": false,
    "ExecuteTime": {
     "end_time": "2023-10-28T18:19:24.137250217Z",
     "start_time": "2023-10-28T18:19:24.084119347Z"
    }
   },
   "id": "5a714455fba00efa"
  },
  {
   "cell_type": "markdown",
   "source": [
    "## Cleaned Functions\n",
    "Use these to actually implement it"
   ],
   "metadata": {
    "collapsed": false
   },
   "id": "922e318bc1a440d5"
  },
  {
   "cell_type": "code",
   "execution_count": 8,
   "outputs": [],
   "source": [
    "\n",
    "def get_sorted_list_func(user_ids, user_preferences):\n",
    "    def get_sorted_list(user_index):\n",
    "        user_score_list = {user_ids[partner_id]:score for partner_id, score in enumerate(user_preferences[user_index]) if partner_id != user_index}\n",
    "        user_score_ordered = collections.OrderedDict(sorted(user_score_list.items(), key=lambda item: item[1], reverse=True))\n",
    "        return list(user_score_ordered)\n",
    "    return get_sorted_list\n",
    "\n",
    "def check_input(user_ids, preference_matrix):\n",
    "    user_limit = 10000\n",
    "    if len(user_ids)>user_limit or len(preference_matrix)>user_limit:\n",
    "        raise ValueError(f\"The user limit is {user_limit}\")\n",
    "    if len(user_ids) != len(preference_matrix):\n",
    "        raise ValueError(f\"user list and matrix length do not match\")\n",
    "\n",
    "def get_preference_lists(user_ids, preference_matrix):\n",
    "    check_input(user_ids, preference_matrix)\n",
    "\n",
    "    user_preferences = cosine_similarity(preference_matrix)\n",
    "    get_sorted_list = get_sorted_list_func(user_ids, user_preferences)\n",
    "    return [get_sorted_list(user_index) for user_index in range(len(user_ids))]\n",
    "\n",
    "\n",
    "\n"
   ],
   "metadata": {
    "collapsed": false,
    "ExecuteTime": {
     "end_time": "2023-10-28T18:19:24.137731694Z",
     "start_time": "2023-10-28T18:19:24.084211292Z"
    }
   },
   "id": "bfe55b16c578ab43"
  },
  {
   "cell_type": "code",
   "execution_count": 8,
   "outputs": [],
   "source": [],
   "metadata": {
    "collapsed": false,
    "ExecuteTime": {
     "end_time": "2023-10-28T18:19:24.138160248Z",
     "start_time": "2023-10-28T18:19:24.084294822Z"
    }
   },
   "id": "8a9f14fee1d3131b"
  },
  {
   "cell_type": "markdown",
   "source": [
    "## Use the Functions"
   ],
   "metadata": {
    "collapsed": false
   },
   "id": "fea236bf9a26b451"
  },
  {
   "cell_type": "code",
   "execution_count": 8,
   "outputs": [],
   "source": [],
   "metadata": {
    "collapsed": false,
    "ExecuteTime": {
     "end_time": "2023-10-28T18:19:24.210272742Z",
     "start_time": "2023-10-28T18:19:24.084434955Z"
    }
   },
   "id": "7302285b5d9034d2"
  },
  {
   "cell_type": "code",
   "execution_count": 9,
   "outputs": [
    {
     "name": "stdout",
     "output_type": "stream",
     "text": [
      "[Snake, Panda, Tree, Dolphin]\n"
     ]
    }
   ],
   "source": [
    "\n",
    "\n",
    "players = []\n",
    "\n",
    "for name in user_ids:\n",
    "    player_obj = Player(name)\n",
    "    players.append(player_obj)\n",
    "\n",
    "print(players)\n",
    "# for i, p in enumerate(players):\n",
    "#     p.set_prefs(preference_order[i])\n",
    "\n",
    "\n",
    "# game = StableRoommates(players)\n",
    "# game.solve()"
   ],
   "metadata": {
    "collapsed": false,
    "ExecuteTime": {
     "end_time": "2023-10-28T18:19:24.236611751Z",
     "start_time": "2023-10-28T18:19:24.127926038Z"
    }
   },
   "id": "ff595b57e15371f3"
  },
  {
   "cell_type": "code",
   "execution_count": 10,
   "outputs": [
    {
     "name": "stdout",
     "output_type": "stream",
     "text": [
      "Size of the matrix: 42 bytes\n"
     ]
    },
    {
     "data": {
      "text/plain": "[['Panda', 'Dolphin', 'Table 16', 'Tree', 'Basel', 'Water'],\n ['Snake', 'Dolphin', 'Table 16', 'Basel', 'Tree', 'Water'],\n ['Basel', 'Table 16', 'Water', 'Snake', 'Dolphin', 'Panda'],\n ['Table 16', 'Snake', 'Panda', 'Tree', 'Basel', 'Water'],\n ['Tree', 'Table 16', 'Basel', 'Dolphin', 'Snake', 'Panda'],\n ['Tree', 'Table 16', 'Water', 'Snake', 'Panda', 'Dolphin'],\n ['Basel', 'Tree', 'Dolphin', 'Snake', 'Water', 'Panda']]"
     },
     "execution_count": 10,
     "metadata": {},
     "output_type": "execute_result"
    }
   ],
   "source": [
    "\n",
    "user_ids = ['Snake','Panda','Tree','Dolphin','Water','Basel','Table 16']\n",
    "preference_matrix = np.array([\n",
    "    [1, 2, 3, 3, 1, 2],\n",
    "    [1, 2, 4, 5, 1, 1],\n",
    "    [5, 5, 3, 0, 5, 1],\n",
    "    [0, 1, 1, 0, 0, 1],\n",
    "    [5, 5, 0, 0, 1, 1],\n",
    "    [4, 3, 3, 0, 5, 1],\n",
    "    [1, 1, 1, 0, 1, 1]\n",
    "], dtype='uint8')\n",
    "size_in_bytes = preference_matrix.nbytes\n",
    "print(f\"Size of the matrix: {size_in_bytes} bytes\")\n",
    "\n",
    "preference_order = get_preference_lists(user_ids, preference_matrix)\n",
    "preference_order\n"
   ],
   "metadata": {
    "collapsed": false,
    "ExecuteTime": {
     "end_time": "2023-10-28T18:19:24.238320983Z",
     "start_time": "2023-10-28T18:19:24.128540046Z"
    }
   },
   "id": "a8a6628dba1b9186"
  },
  {
   "cell_type": "code",
   "execution_count": 10,
   "outputs": [],
   "source": [],
   "metadata": {
    "collapsed": false,
    "ExecuteTime": {
     "end_time": "2023-10-28T18:19:24.238753085Z",
     "start_time": "2023-10-28T18:19:24.128933339Z"
    }
   },
   "id": "9a29c81b1b0669ff"
  },
  {
   "cell_type": "code",
   "execution_count": 11,
   "outputs": [],
   "source": [
    "from functions.data import User\n",
    "# import random\n",
    "# from faker import Faker\n",
    "# \n",
    "# \n",
    "# \n",
    "# def get_workdays():\n",
    "#     random_array = [random.choice([False, True]) for _ in range(5)]\n",
    "#     return [days for nr, days in enumerate(['Mon', 'Tue', 'Wen','Thu','Fri']) if random_array[nr]]\n",
    "# \n",
    "# def get_preferences():\n",
    "#     preference_topics = ['Lord of the Rings', 'Hackatons', 'Console Gaming', 'PC Gaming', 'Humans', 'Bouldering', 'Boxing', 'Football']\n",
    "#     score = [0,0,0,0,0,0,0,0,0,0,1,2,3,4,5]\n",
    "#     return {preference:random.choice(score) for preference in preference_topics}\n",
    "# \n",
    "# def create_fake_users(amount):\n",
    "#     fake = Faker(locale = \"en_GB\")\n",
    "#     return [User(i, {'name':fake.name(),'days':get_workdays(),'preferences':get_preferences()}) for i in range(amount)]\n",
    "#         \n",
    "# \n",
    "# fake_users = create_fake_users(10)\n",
    "# \n",
    "# for u in fake_users:\n",
    "#     print(str(u))\n",
    "\n",
    "\n"
   ],
   "metadata": {
    "collapsed": false,
    "ExecuteTime": {
     "end_time": "2023-10-28T18:19:24.315131059Z",
     "start_time": "2023-10-28T18:19:24.135087236Z"
    }
   },
   "id": "37468ad06e3338a6"
  },
  {
   "cell_type": "code",
   "execution_count": 15,
   "outputs": [],
   "source": [
    "from functions.data import create_fake_users\n",
    "\n"
   ],
   "metadata": {
    "collapsed": false,
    "ExecuteTime": {
     "end_time": "2023-10-28T18:19:29.945481720Z",
     "start_time": "2023-10-28T18:19:29.924109987Z"
    }
   },
   "id": "834dfbfe0b60cb0b"
  },
  {
   "cell_type": "code",
   "execution_count": 16,
   "outputs": [
    {
     "name": "stdout",
     "output_type": "stream",
     "text": [
      "{\"name\": \"Dr Lee Mitchell\", \"days\": [\"Mon\", \"Wen\", \"Fri\"], \"preferences\": {\"Lord of the Rings\": 5, \"Hackatons\": 0, \"Console Gaming\": 4, \"PC Gaming\": 0, \"Humans\": 0, \"Bouldering\": 2, \"Boxing\": 2, \"Football\": 0}, \"id\": 0}\n",
      "{\"name\": \"Sophie Day\", \"days\": [\"Tue\", \"Thu\"], \"preferences\": {\"Lord of the Rings\": 0, \"Hackatons\": 0, \"Console Gaming\": 2, \"PC Gaming\": 0, \"Humans\": 5, \"Bouldering\": 0, \"Boxing\": 4, \"Football\": 0}, \"id\": 1}\n",
      "{\"name\": \"Albert Brown\", \"days\": [\"Mon\", \"Tue\", \"Wen\", \"Thu\", \"Fri\"], \"preferences\": {\"Lord of the Rings\": 0, \"Hackatons\": 2, \"Console Gaming\": 1, \"PC Gaming\": 3, \"Humans\": 0, \"Bouldering\": 0, \"Boxing\": 1, \"Football\": 2}, \"id\": 2}\n",
      "{\"name\": \"Dr Julia Freeman\", \"days\": [\"Mon\", \"Tue\", \"Thu\", \"Fri\"], \"preferences\": {\"Lord of the Rings\": 4, \"Hackatons\": 0, \"Console Gaming\": 0, \"PC Gaming\": 4, \"Humans\": 0, \"Bouldering\": 0, \"Boxing\": 0, \"Football\": 0}, \"id\": 3}\n",
      "{\"name\": \"Dr Charles Poole\", \"days\": [\"Fri\"], \"preferences\": {\"Lord of the Rings\": 1, \"Hackatons\": 0, \"Console Gaming\": 4, \"PC Gaming\": 0, \"Humans\": 0, \"Bouldering\": 0, \"Boxing\": 0, \"Football\": 0}, \"id\": 4}\n",
      "{\"name\": \"Janice Parkes\", \"days\": [\"Mon\", \"Wen\", \"Thu\"], \"preferences\": {\"Lord of the Rings\": 3, \"Hackatons\": 0, \"Console Gaming\": 2, \"PC Gaming\": 0, \"Humans\": 2, \"Bouldering\": 4, \"Boxing\": 0, \"Football\": 0}, \"id\": 5}\n",
      "{\"name\": \"Dr Brett Marshall\", \"days\": [\"Tue\", \"Thu\", \"Fri\"], \"preferences\": {\"Lord of the Rings\": 0, \"Hackatons\": 0, \"Console Gaming\": 2, \"PC Gaming\": 0, \"Humans\": 2, \"Bouldering\": 0, \"Boxing\": 0, \"Football\": 1}, \"id\": 6}\n",
      "{\"name\": \"Roger King\", \"days\": [\"Mon\", \"Tue\", \"Fri\"], \"preferences\": {\"Lord of the Rings\": 4, \"Hackatons\": 0, \"Console Gaming\": 5, \"PC Gaming\": 1, \"Humans\": 0, \"Bouldering\": 0, \"Boxing\": 0, \"Football\": 2}, \"id\": 7}\n",
      "{\"name\": \"Jake Smith\", \"days\": [\"Mon\", \"Tue\", \"Wen\", \"Thu\", \"Fri\"], \"preferences\": {\"Lord of the Rings\": 0, \"Hackatons\": 2, \"Console Gaming\": 2, \"PC Gaming\": 0, \"Humans\": 2, \"Bouldering\": 0, \"Boxing\": 0, \"Football\": 4}, \"id\": 8}\n",
      "{\"name\": \"Rhys Edwards-Smith\", \"days\": [\"Thu\"], \"preferences\": {\"Lord of the Rings\": 0, \"Hackatons\": 0, \"Console Gaming\": 3, \"PC Gaming\": 0, \"Humans\": 3, \"Bouldering\": 0, \"Boxing\": 0, \"Football\": 0}, \"id\": 9}\n"
     ]
    }
   ],
   "source": [
    "fake_users = create_fake_users(10)\n",
    "\n",
    "for u in fake_users:\n",
    "    print(str(u))\n",
    "    \n",
    "    "
   ],
   "metadata": {
    "collapsed": false,
    "ExecuteTime": {
     "end_time": "2023-10-28T18:19:30.096467176Z",
     "start_time": "2023-10-28T18:19:30.056234934Z"
    }
   },
   "id": "4180d228b79f25f3"
  },
  {
   "cell_type": "code",
   "execution_count": 13,
   "outputs": [],
   "source": [],
   "metadata": {
    "collapsed": false,
    "ExecuteTime": {
     "end_time": "2023-10-28T18:19:24.396027695Z",
     "start_time": "2023-10-28T18:19:24.319749693Z"
    }
   },
   "id": "96ddc60b5e5f3caa"
  }
 ],
 "metadata": {
  "kernelspec": {
   "display_name": "Python 3",
   "language": "python",
   "name": "python3"
  },
  "language_info": {
   "codemirror_mode": {
    "name": "ipython",
    "version": 2
   },
   "file_extension": ".py",
   "mimetype": "text/x-python",
   "name": "python",
   "nbconvert_exporter": "python",
   "pygments_lexer": "ipython2",
   "version": "2.7.6"
  }
 },
 "nbformat": 4,
 "nbformat_minor": 5
}
