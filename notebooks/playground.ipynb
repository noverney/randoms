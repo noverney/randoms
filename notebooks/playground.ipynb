{
 "cells": [
  {
   "cell_type": "code",
   "execution_count": 1,
   "metadata": {},
   "outputs": [
    {
     "name": "stdout",
     "output_type": "stream",
     "text": [
      "Collecting matching\n",
      "  Downloading matching-1.4.3-py3-none-any.whl.metadata (7.2 kB)\n",
      "Collecting numpy>=1.19.2 (from matching)\n",
      "  Downloading numpy-1.26.1-cp312-cp312-manylinux_2_17_x86_64.manylinux2014_x86_64.whl.metadata (61 kB)\n",
      "\u001b[2K     \u001b[90m━━━━━━━━━━━━━━━━━━━━━━━━━━━━━━━━━━━━━━━\u001b[0m \u001b[32m61.2/61.2 kB\u001b[0m \u001b[31m393.0 kB/s\u001b[0m eta \u001b[36m0:00:00\u001b[0ma \u001b[36m0:00:01\u001b[0m\n",
      "\u001b[?25hDownloading matching-1.4.3-py3-none-any.whl (30 kB)\n",
      "Downloading numpy-1.26.1-cp312-cp312-manylinux_2_17_x86_64.manylinux2014_x86_64.whl (17.9 MB)\n",
      "\u001b[2K   \u001b[90m━━━━━━━━━━━━━━━━━━━━━━━━━━━━━━━━━━━━━━━━\u001b[0m \u001b[32m17.9/17.9 MB\u001b[0m \u001b[31m2.5 MB/s\u001b[0m eta \u001b[36m0:00:00\u001b[0m00:01\u001b[0m00:01\u001b[0mm\n",
      "\u001b[?25hInstalling collected packages: numpy, matching\n",
      "Successfully installed matching-1.4.3 numpy-1.26.1\n"
     ]
    }
   ],
   "source": [
    "!pip install matching"
   ]
  },
  {
   "cell_type": "code",
   "execution_count": 2,
   "metadata": {},
   "outputs": [],
   "source": [
    "suitor_preferences = {\n",
    "     \"A\": [\"D\", \"E\", \"F\"], \"B\": [\"D\", \"F\", \"E\"], \"C\": [\"F\", \"D\", \"E\"]\n",
    "}\n",
    "reviewer_preferences = {\n",
    "     \"D\": [\"B\", \"C\", \"A\"], \"E\": [\"A\", \"C\", \"B\"], \"F\": [\"C\", \"B\", \"A\"]\n",
    "}"
   ]
  },
  {
   "cell_type": "code",
   "execution_count": 5,
   "metadata": {},
   "outputs": [
    {
     "data": {
      "text/plain": [
       "{A: E, B: D, C: F}"
      ]
     },
     "execution_count": 5,
     "metadata": {},
     "output_type": "execute_result"
    }
   ],
   "source": [
    "from matching.games import StableMarriage\n",
    "game = StableMarriage.create_from_dictionaries(\n",
    "     suitor_preferences, reviewer_preferences\n",
    ")\n",
    "game.solve()"
   ]
  },
  {
   "cell_type": "code",
   "execution_count": 7,
   "metadata": {},
   "outputs": [],
   "source": [
    "# user just have preferences \n",
    "user1_pref = {\"AI\": 1, \"Fitness\" : 4, \"Travel\" : 5}\n",
    "user2_pref = {\"AI\": 3, \"Fitness\" : 1, \"Travel\" : 1}\n",
    "user3_pref = {\"AI\": 3, \"Fitness\" : 1, \"Travel\" : 1}\n",
    "user4_pref = {\"AI\": 3, \"Fitness\" : 1, \"Travel\" : 1}\n",
    "\n",
    "# matrix "
   ]
  },
  {
   "cell_type": "code",
   "execution_count": 11,
   "metadata": {},
   "outputs": [
    {
     "data": {
      "text/plain": [
       "array([[1, 4, 5],\n",
       "       [3, 1, 1],\n",
       "       [3, 1, 1],\n",
       "       [3, 1, 1]])"
      ]
     },
     "execution_count": 11,
     "metadata": {},
     "output_type": "execute_result"
    }
   ],
   "source": [
    "import numpy as np \n",
    "\n",
    "def convert_preferences_to_matrix(users_preferences):\n",
    "    # Get the list of all topics from the user preferences\n",
    "    all_topics = set().union(*users_preferences)\n",
    "\n",
    "    # Create a NumPy matrix from the user preferences\n",
    "    pref_matrix = np.array([[user_pref.get(topic, 0) for topic in all_topics] for user_pref in users_preferences])\n",
    "\n",
    "    return pref_matrix\n",
    "\n",
    "convert_preferences_to_matrix([user1_pref, user2_pref, user3_pref, user4_pref])"
   ]
  },
  {
   "cell_type": "code",
   "execution_count": 2,
   "metadata": {},
   "outputs": [
    {
     "name": "stderr",
     "output_type": "stream",
     "text": [
      "/home/noverney/miniconda3/envs/baselhack/lib/python3.12/pty.py:95: DeprecationWarning: This process (pid=27498) is multi-threaded, use of forkpty() may lead to deadlocks in the child.\n",
      "  pid, fd = os.forkpty()\n"
     ]
    },
    {
     "name": "stdout",
     "output_type": "stream",
     "text": [
      "Collecting scikit-learn\n",
      "  Downloading scikit_learn-1.3.2-cp312-cp312-manylinux_2_17_x86_64.manylinux2014_x86_64.whl.metadata (11 kB)\n",
      "Requirement already satisfied: numpy<2.0,>=1.17.3 in /home/noverney/miniconda3/envs/baselhack/lib/python3.12/site-packages (from scikit-learn) (1.26.1)\n",
      "Collecting scipy>=1.5.0 (from scikit-learn)\n",
      "  Downloading scipy-1.11.3-cp312-cp312-manylinux_2_17_x86_64.manylinux2014_x86_64.whl.metadata (60 kB)\n",
      "\u001b[2K     \u001b[90m━━━━━━━━━━━━━━━━━━━━━━━━━━━━━━━━━━━━━━━\u001b[0m \u001b[32m60.4/60.4 kB\u001b[0m \u001b[31m594.2 kB/s\u001b[0m eta \u001b[36m0:00:00\u001b[0ma \u001b[36m0:00:01\u001b[0m\n",
      "\u001b[?25hCollecting joblib>=1.1.1 (from scikit-learn)\n",
      "  Downloading joblib-1.3.2-py3-none-any.whl.metadata (5.4 kB)\n",
      "Collecting threadpoolctl>=2.0.0 (from scikit-learn)\n",
      "  Downloading threadpoolctl-3.2.0-py3-none-any.whl.metadata (10.0 kB)\n",
      "Downloading scikit_learn-1.3.2-cp312-cp312-manylinux_2_17_x86_64.manylinux2014_x86_64.whl (10.8 MB)\n",
      "\u001b[2K   \u001b[90m━━━━━━━━━━━━━━━━━━━━━━━━━━━━━━━━━━━━━━━━\u001b[0m \u001b[32m10.8/10.8 MB\u001b[0m \u001b[31m3.7 MB/s\u001b[0m eta \u001b[36m0:00:00\u001b[0m00:01\u001b[0m00:01\u001b[0m\n",
      "\u001b[?25hDownloading joblib-1.3.2-py3-none-any.whl (302 kB)\n",
      "\u001b[2K   \u001b[90m━━━━━━━━━━━━━━━━━━━━━━━━━━━━━━━━━━━━━━━━\u001b[0m \u001b[32m302.2/302.2 kB\u001b[0m \u001b[31m4.9 MB/s\u001b[0m eta \u001b[36m0:00:00\u001b[0ma \u001b[36m0:00:01\u001b[0m\n",
      "\u001b[?25hDownloading scipy-1.11.3-cp312-cp312-manylinux_2_17_x86_64.manylinux2014_x86_64.whl (35.7 MB)\n",
      "\u001b[2K   \u001b[90m━━━━━━━━━━━━━━━━━━━━━━━━━━━━━━━━━━━━━━━━\u001b[0m \u001b[32m35.7/35.7 MB\u001b[0m \u001b[31m8.3 MB/s\u001b[0m eta \u001b[36m0:00:00\u001b[0m00:01\u001b[0m00:01\u001b[0mm\n",
      "\u001b[?25hDownloading threadpoolctl-3.2.0-py3-none-any.whl (15 kB)\n",
      "Installing collected packages: threadpoolctl, scipy, joblib, scikit-learn\n",
      "Successfully installed joblib-1.3.2 scikit-learn-1.3.2 scipy-1.11.3 threadpoolctl-3.2.0\n"
     ]
    }
   ],
   "source": [
    "!pip install scikit-learn"
   ]
  },
  {
   "cell_type": "code",
   "execution_count": 29,
   "metadata": {},
   "outputs": [],
   "source": [
    "import os \n",
    "import sys\n",
    "sys.path.append(os.path.join(os.getcwd(), '..', 'functions'))\n",
    "\n",
    "from matching_users import create_matches_from_users\n",
    "from data import User"
   ]
  },
  {
   "cell_type": "code",
   "execution_count": 30,
   "metadata": {},
   "outputs": [
    {
     "name": "stdout",
     "output_type": "stream",
     "text": [
      "[('1', '2'), ('2', '1')]\n"
     ]
    },
    {
     "name": "stderr",
     "output_type": "stream",
     "text": [
      "/home/noverney/miniconda3/envs/baselhack/lib/python3.12/site-packages/matching/algorithms/stable_roommates.py:141: NoStableMatchingWarning: The following players have been rejected by all others, emptying their preference list: [3]\n",
      "  warnings.warn(\n"
     ]
    }
   ],
   "source": [
    "# we need to import the matching algorithm but now I have some users first\n",
    "users = [User(\"1\", {\"preferences\": {\n",
    "                            \"guns\": 5,\n",
    "                            \"dogs\": 5\n",
    "                        },\n",
    "                        \"days\": [\n",
    "                            \"mon\",\n",
    "                            \"fri\"\n",
    "                        ],\n",
    "                        \"name\": \"John Wick\",\n",
    "                        \"id\": \"1\"\n",
    "                        }), \n",
    "            User(\"2\", {\"preferences\": {\n",
    "                            \"guns\": 5,\n",
    "                            \"dogs\": 3\n",
    "                        },\n",
    "                        \"days\": [\n",
    "                            \"mon\",\n",
    "                            \"fri\"\n",
    "                        ],\n",
    "                        \"name\": \"John Shirt\",\n",
    "                        \"id\": \"2\"\n",
    "                        }), \n",
    "            User(\"3\", {\"preferences\": {\n",
    "                            \n",
    "                        },\n",
    "                        \"days\": [\n",
    "                            \"mon\",\n",
    "                            \"fri\"\n",
    "                        ],\n",
    "                        \"name\": \"John Pants\",\n",
    "                        \"id\": \"3\"\n",
    "                        }), ]\n",
    "print([(match1.id,match2.id)  for match1,match2 in create_matches_from_users(users)])"
   ]
  },
  {
   "cell_type": "code",
   "execution_count": null,
   "metadata": {},
   "outputs": [],
   "source": []
  }
 ],
 "metadata": {
  "kernelspec": {
   "display_name": "Python 3",
   "language": "python",
   "name": "python3"
  },
  "language_info": {
   "codemirror_mode": {
    "name": "ipython",
    "version": 3
   },
   "file_extension": ".py",
   "mimetype": "text/x-python",
   "name": "python",
   "nbconvert_exporter": "python",
   "pygments_lexer": "ipython3",
   "version": "3.12.0"
  }
 },
 "nbformat": 4,
 "nbformat_minor": 2
}
