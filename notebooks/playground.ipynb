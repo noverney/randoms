{
 "cells": [
  {
   "cell_type": "code",
   "execution_count": 1,
   "metadata": {},
   "outputs": [
    {
     "name": "stdout",
     "output_type": "stream",
     "text": [
      "Collecting matching\n",
      "  Using cached matching-1.4.3-py3-none-any.whl (30 kB)\n",
      "Requirement already satisfied: numpy>=1.19.2 in /home/noverney/miniconda3/lib/python3.10/site-packages (from matching) (1.23.5)\n",
      "Installing collected packages: matching\n",
      "Successfully installed matching-1.4.3\n"
     ]
    }
   ],
   "source": [
    "!pip install matching"
   ]
  },
  {
   "cell_type": "code",
   "execution_count": 2,
   "metadata": {},
   "outputs": [],
   "source": [
    "suitor_preferences = {\n",
    "     \"A\": [\"D\", \"E\", \"F\"], \"B\": [\"D\", \"F\", \"E\"], \"C\": [\"F\", \"D\", \"E\"]\n",
    "}\n",
    "reviewer_preferences = {\n",
    "     \"D\": [\"B\", \"C\", \"A\"], \"E\": [\"A\", \"C\", \"B\"], \"F\": [\"C\", \"B\", \"A\"]\n",
    "}"
   ]
  },
  {
   "cell_type": "code",
   "execution_count": 3,
   "metadata": {},
   "outputs": [
    {
     "data": {
      "text/plain": [
       "{A: E, B: D, C: F}"
      ]
     },
     "execution_count": 3,
     "metadata": {},
     "output_type": "execute_result"
    }
   ],
   "source": [
    "from matching.games import StableMarriage\n",
    "game = StableMarriage.create_from_dictionaries(\n",
    "     suitor_preferences, reviewer_preferences\n",
    ")\n",
    "game.solve()"
   ]
  },
  {
   "cell_type": "code",
   "execution_count": 4,
   "metadata": {},
   "outputs": [],
   "source": [
    "# user just have preferences \n",
    "user1_pref = {\"AI\": 1, \"Fitness\" : 4, \"Travel\" : 5}\n",
    "user2_pref = {\"AI\": 3, \"Fitness\" : 1, \"Travel\" : 1}\n",
    "user3_pref = {\"AI\": 3, \"Fitness\" : 1, \"Travel\" : 1}\n",
    "user4_pref = {\"AI\": 3, \"Fitness\" : 1, \"Travel\" : 1}\n",
    "\n",
    "# matrix "
   ]
  },
  {
   "cell_type": "code",
   "execution_count": 5,
   "metadata": {},
   "outputs": [
    {
     "data": {
      "text/plain": [
       "array([[4, 5, 1],\n",
       "       [1, 1, 3],\n",
       "       [1, 1, 3],\n",
       "       [1, 1, 3]])"
      ]
     },
     "execution_count": 5,
     "metadata": {},
     "output_type": "execute_result"
    }
   ],
   "source": [
    "import numpy as np \n",
    "\n",
    "def convert_preferences_to_matrix(users_preferences):\n",
    "    # Get the list of all topics from the user preferences\n",
    "    all_topics = set().union(*users_preferences)\n",
    "\n",
    "    # Create a NumPy matrix from the user preferences\n",
    "    pref_matrix = np.array([[user_pref.get(topic, 0) for topic in all_topics] for user_pref in users_preferences])\n",
    "\n",
    "    return pref_matrix\n",
    "\n",
    "convert_preferences_to_matrix([user1_pref, user2_pref, user3_pref, user4_pref])"
   ]
  },
  {
   "cell_type": "code",
   "execution_count": 10,
   "metadata": {},
   "outputs": [
    {
     "name": "stdout",
     "output_type": "stream",
     "text": [
      "Requirement already satisfied: scikit-learn in /home/noverney/miniconda3/lib/python3.10/site-packages (1.2.2)\n",
      "Requirement already satisfied: threadpoolctl>=2.0.0 in /home/noverney/miniconda3/lib/python3.10/site-packages (from scikit-learn) (3.1.0)\n",
      "Requirement already satisfied: scipy>=1.3.2 in /home/noverney/miniconda3/lib/python3.10/site-packages (from scikit-learn) (1.10.1)\n",
      "Requirement already satisfied: joblib>=1.1.1 in /home/noverney/miniconda3/lib/python3.10/site-packages (from scikit-learn) (1.2.0)\n",
      "Requirement already satisfied: numpy>=1.17.3 in /home/noverney/miniconda3/lib/python3.10/site-packages (from scikit-learn) (1.23.5)\n",
      "Collecting faker\n",
      "  Downloading Faker-19.12.0-py3-none-any.whl (1.7 MB)\n",
      "\u001b[2K     \u001b[90m━━━━━━━━━━━━━━━━━━━━━━━━━━━━━━━━━━━━━━━━\u001b[0m \u001b[32m1.7/1.7 MB\u001b[0m \u001b[31m3.0 MB/s\u001b[0m eta \u001b[36m0:00:00\u001b[0m00:01\u001b[0m00:01\u001b[0m\n",
      "\u001b[?25hRequirement already satisfied: python-dateutil>=2.4 in /home/noverney/miniconda3/lib/python3.10/site-packages (from faker) (2.8.2)\n",
      "Requirement already satisfied: six>=1.5 in /home/noverney/miniconda3/lib/python3.10/site-packages (from python-dateutil>=2.4->faker) (1.16.0)\n",
      "Installing collected packages: faker\n",
      "Successfully installed faker-19.12.0\n"
     ]
    }
   ],
   "source": [
    "!pip install scikit-learn\n",
    "!pip install faker"
   ]
  },
  {
   "cell_type": "code",
   "execution_count": 11,
   "metadata": {},
   "outputs": [],
   "source": [
    "import os \n",
    "import sys\n",
    "sys.path.append(os.path.join(os.getcwd(), '..', \"functions\" ))\n",
    "\n",
    "from functions.matching_users import create_matches_from_users\n",
    "from functions.data import *\n",
    "#from functions.data import create_fake_users"
   ]
  },
  {
   "cell_type": "code",
   "execution_count": 12,
   "metadata": {},
   "outputs": [
    {
     "name": "stdout",
     "output_type": "stream",
     "text": [
      "[('1', '2'), ('2', '1')]\n"
     ]
    },
    {
     "name": "stderr",
     "output_type": "stream",
     "text": [
      "/home/noverney/miniconda3/lib/python3.10/site-packages/matching/algorithms/stable_roommates.py:141: NoStableMatchingWarning: The following players have been rejected by all others, emptying their preference list: [3]\n",
      "  warnings.warn(\n"
     ]
    }
   ],
   "source": [
    "# we need to import the matching algorithm but now I have some users first\n",
    "users = [User(\"1\", {\"preferences\": {\n",
    "                            \"guns\": 5,\n",
    "                            \"dogs\": 5\n",
    "                        },\n",
    "                        \"days\": [\n",
    "                            \"mon\",\n",
    "                            \"fri\"\n",
    "                        ],\n",
    "                        \"name\": \"John Wick\",\n",
    "                        \"id\": \"1\"\n",
    "                        }), \n",
    "            User(\"2\", {\"preferences\": {\n",
    "                            \"guns\": 5,\n",
    "                            \"dogs\": 3\n",
    "                        },\n",
    "                        \"days\": [\n",
    "                            \"mon\",\n",
    "                            \"fri\"\n",
    "                        ],\n",
    "                        \"name\": \"John Shirt\",\n",
    "                        \"id\": \"2\"\n",
    "                        }), \n",
    "            User(\"3\", {\"preferences\": {\n",
    "                            \n",
    "                        },\n",
    "                        \"days\": [\n",
    "                            \"mon\",\n",
    "                            \"fri\"\n",
    "                        ],\n",
    "                        \"name\": \"John Pants\",\n",
    "                        \"id\": \"3\"\n",
    "                        }), ]\n",
    "print([(match1.id,match2.id)  for match1,match2 in create_matches_from_users(users)])"
   ]
  },
  {
   "cell_type": "code",
   "execution_count": 18,
   "metadata": {},
   "outputs": [
    {
     "name": "stdout",
     "output_type": "stream",
     "text": [
      "[(0, 415), (1, 44), (2, 39), (3, 48), (4, 73), (5, 360), (6, 332), (7, 77), (8, 131), (9, 469), (10, 34), (11, 489), (12, 165), (13, 378), (14, 249), (15, 205), (16, 485), (17, 30), (18, 484), (19, 238), (20, 349), (21, 159), (22, 203), (23, 372), (24, 245), (25, 492), (26, 67), (27, 54), (28, 179), (29, 321), (30, 17), (31, 257), (32, 108), (33, 479), (34, 10), (35, 53), (36, 69), (37, 374), (38, 246), (39, 2), (40, 324), (41, 89), (42, 335), (43, 392), (44, 1), (45, 49), (46, 194), (47, 271), (48, 3), (49, 45), (50, 299), (51, 154), (52, 173), (53, 35), (54, 27), (55, 82), (56, 186), (57, 177), (58, 351), (59, 344), (60, 463), (61, 103), (62, 292), (63, 224), (64, 127), (65, 251), (66, 141), (67, 26), (68, 284), (69, 36), (70, 98), (71, 241), (72, 303), (73, 4), (74, 181), (75, 183), (76, 235), (77, 7), (78, 471), (79, 166), (80, 85), (81, 105), (82, 55), (83, 461), (84, 233), (85, 80), (86, 91), (87, 396), (88, 100), (89, 41), (90, 113), (91, 86), (92, 171), (93, 222), (94, 126), (95, 170), (96, 388), (97, 373), (98, 70), (99, 264), (100, 88), (101, 412), (102, 368), (103, 61), (104, 333), (105, 81), (106, 239), (107, 339), (108, 32), (109, 287), (110, 422), (111, 122), (112, 279), (113, 90), (114, 444), (115, 424), (116, 404), (117, 139), (118, 132), (119, 380), (120, 198), (121, 403), (122, 111), (123, 477), (124, 317), (125, 429), (126, 94), (127, 64), (128, 266), (129, 138), (130, 140), (131, 8), (132, 118), (133, 295), (134, 331), (135, 193), (136, 216), (137, 416), (138, 129), (139, 117), (140, 130), (141, 66), (142, 413), (143, 150), (144, 318), (145, 223), (146, 191), (147, 346), (148, 201), (149, 394), (150, 143), (151, 487), (152, 370), (153, 450), (154, 51), (155, 376), (156, 232), (157, 263), (158, 312), (159, 21), (160, 483), (161, 189), (162, 414), (163, 254), (164, 218), (165, 12), (166, 79), (167, 180), (168, 213), (169, 497), (170, 95), (171, 92), (172, 328), (173, 52), (174, 178), (175, 362), (176, 498), (177, 57), (178, 174), (179, 28), (180, 167), (181, 74), (182, 447), (183, 75), (184, 455), (185, 316), (186, 56), (187, 398), (188, 262), (189, 161), (190, 209), (191, 146), (192, 258), (193, 135), (194, 46), (195, 359), (196, 460), (197, 306), (198, 120), (199, 391), (200, 434), (201, 148), (202, 206), (203, 22), (204, 302), (205, 15), (206, 202), (207, 459), (208, 425), (209, 190), (210, 229), (211, 214), (212, 261), (213, 168), (214, 211), (215, 320), (216, 136), (217, 480), (218, 164), (219, 300), (220, 221), (221, 220), (222, 93), (223, 145), (224, 63), (225, 482), (226, 381), (227, 294), (228, 240), (229, 210), (230, 237), (231, 357), (232, 156), (233, 84), (234, 286), (235, 76), (236, 361), (237, 230), (238, 19), (239, 106), (240, 228), (241, 71), (242, 311), (243, 268), (244, 259), (245, 24), (246, 38), (247, 456), (248, 341), (249, 14), (250, 466), (251, 65), (252, 379), (253, 377), (254, 163), (255, 419), (256, 319), (257, 31), (258, 192), (259, 244), (260, 400), (261, 212), (262, 188), (263, 157), (264, 99), (265, 481), (266, 128), (267, 406), (268, 243), (269, 496), (270, 301), (271, 47), (272, 354), (273, 334), (274, 382), (275, 488), (276, 297), (277, 290), (278, 478), (279, 112), (280, 437), (281, 473), (282, 367), (283, 315), (284, 68), (285, 472), (286, 234), (287, 109), (288, 464), (289, 458), (290, 277), (291, 353), (292, 62), (293, 431), (294, 227), (295, 133), (296, 366), (297, 276), (298, 329), (299, 50), (300, 219), (301, 270), (302, 204), (303, 72), (304, 363), (305, 326), (306, 197), (307, 322), (308, 343), (309, 446), (310, 338), (311, 242), (312, 158), (313, 453), (314, 336), (315, 283), (316, 185), (317, 124), (318, 144), (319, 256), (320, 215), (321, 29), (322, 307), (323, 495), (324, 40), (325, 454), (326, 305), (327, 435), (328, 172), (329, 298), (330, 395), (331, 134), (332, 6), (333, 104), (334, 273), (335, 42), (336, 314), (337, 399), (338, 310), (339, 107), (340, 475), (341, 248), (342, 365), (343, 308), (344, 59), (345, 408), (346, 147), (347, 383), (348, 465), (349, 20), (350, 451), (351, 58), (352, 474), (353, 291), (354, 272), (355, 433), (356, 462), (357, 231), (358, 387), (359, 195), (360, 5), (361, 236), (362, 175), (363, 304), (364, 430), (365, 342), (366, 296), (367, 282), (368, 102), (369, 405), (370, 152), (371, 421), (372, 23), (373, 97), (374, 37), (375, 411), (376, 155), (377, 253), (378, 13), (379, 252), (380, 119), (381, 226), (382, 274), (383, 347), (384, 457), (385, 442), (386, 448), (387, 358), (388, 96), (389, 441), (390, 418), (391, 199), (392, 43), (393, 410), (394, 149), (395, 330), (396, 87), (397, 449), (398, 187), (399, 337), (400, 260), (401, 417), (402, 443), (403, 121), (404, 116), (405, 369), (406, 267), (407, 432), (408, 345), (409, 423), (410, 393), (411, 375), (412, 101), (413, 142), (414, 162), (415, 0), (416, 137), (417, 401), (418, 390), (419, 255), (420, 486), (421, 371), (422, 110), (423, 409), (424, 115), (425, 208), (426, 440), (427, 436), (428, 491), (429, 125), (430, 364), (431, 293), (432, 407), (433, 355), (434, 200), (435, 327), (436, 427), (437, 280), (438, 494), (439, 452), (440, 426), (441, 389), (442, 385), (443, 402), (444, 114), (445, 499), (446, 309), (447, 182), (448, 386), (449, 397), (450, 153), (451, 350), (452, 439), (453, 313), (454, 325), (455, 184), (456, 247), (457, 384), (458, 289), (459, 207), (460, 196), (461, 83), (462, 356), (463, 60), (464, 288), (465, 348), (466, 250), (467, 493), (468, 490), (469, 9), (470, 476), (471, 78), (472, 285), (473, 281), (474, 352), (475, 340), (476, 470), (477, 123), (478, 278), (479, 33), (480, 217), (481, 265), (482, 225), (483, 160), (484, 18), (485, 16), (486, 420), (487, 151), (488, 275), (489, 11), (490, 468), (491, 428), (492, 25), (493, 467), (494, 438), (495, 323), (496, 269), (497, 169), (498, 176), (499, 445)]\n"
     ]
    }
   ],
   "source": [
    "fake_users = create_fake_users(500)\n",
    "print([(match1.id,match2.id)  for match1,match2 in create_matches_from_users(fake_users)])"
   ]
  },
  {
   "cell_type": "markdown",
   "metadata": {},
   "source": [
    "### for 500 it is around three seconds "
   ]
  }
 ],
 "metadata": {
  "kernelspec": {
   "display_name": "Python 3",
   "language": "python",
   "name": "python3"
  },
  "language_info": {
   "codemirror_mode": {
    "name": "ipython",
    "version": 3
   },
   "file_extension": ".py",
   "mimetype": "text/x-python",
   "name": "python",
   "nbconvert_exporter": "python",
   "pygments_lexer": "ipython3",
   "version": "3.10.9"
  }
 },
 "nbformat": 4,
 "nbformat_minor": 2
}
