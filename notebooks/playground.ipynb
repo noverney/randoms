{
 "cells": [
  {
   "cell_type": "code",
   "execution_count": 1,
   "metadata": {},
   "outputs": [
    {
     "name": "stdout",
     "output_type": "stream",
     "text": [
      "Collecting matching\n",
      "  Downloading matching-1.4.3-py3-none-any.whl.metadata (7.2 kB)\n",
      "Collecting numpy>=1.19.2 (from matching)\n",
      "  Downloading numpy-1.26.1-cp312-cp312-manylinux_2_17_x86_64.manylinux2014_x86_64.whl.metadata (61 kB)\n",
      "\u001b[2K     \u001b[90m━━━━━━━━━━━━━━━━━━━━━━━━━━━━━━━━━━━━━━━\u001b[0m \u001b[32m61.2/61.2 kB\u001b[0m \u001b[31m393.0 kB/s\u001b[0m eta \u001b[36m0:00:00\u001b[0ma \u001b[36m0:00:01\u001b[0m\n",
      "\u001b[?25hDownloading matching-1.4.3-py3-none-any.whl (30 kB)\n",
      "Downloading numpy-1.26.1-cp312-cp312-manylinux_2_17_x86_64.manylinux2014_x86_64.whl (17.9 MB)\n",
      "\u001b[2K   \u001b[90m━━━━━━━━━━━━━━━━━━━━━━━━━━━━━━━━━━━━━━━━\u001b[0m \u001b[32m17.9/17.9 MB\u001b[0m \u001b[31m2.5 MB/s\u001b[0m eta \u001b[36m0:00:00\u001b[0m00:01\u001b[0m00:01\u001b[0mm\n",
      "\u001b[?25hInstalling collected packages: numpy, matching\n",
      "Successfully installed matching-1.4.3 numpy-1.26.1\n"
     ]
    }
   ],
   "source": [
    "!pip install matching"
   ]
  },
  {
   "cell_type": "code",
   "execution_count": 2,
   "metadata": {},
   "outputs": [],
   "source": [
    "suitor_preferences = {\n",
    "     \"A\": [\"D\", \"E\", \"F\"], \"B\": [\"D\", \"F\", \"E\"], \"C\": [\"F\", \"D\", \"E\"]\n",
    "}\n",
    "reviewer_preferences = {\n",
    "     \"D\": [\"B\", \"C\", \"A\"], \"E\": [\"A\", \"C\", \"B\"], \"F\": [\"C\", \"B\", \"A\"]\n",
    "}"
   ]
  },
  {
   "cell_type": "code",
   "execution_count": 5,
   "metadata": {},
   "outputs": [
    {
     "data": {
      "text/plain": [
       "{A: E, B: D, C: F}"
      ]
     },
     "execution_count": 5,
     "metadata": {},
     "output_type": "execute_result"
    }
   ],
   "source": [
    "from matching.games import StableMarriage\n",
    "game = StableMarriage.create_from_dictionaries(\n",
    "     suitor_preferences, reviewer_preferences\n",
    ")\n",
    "game.solve()"
   ]
  },
  {
   "cell_type": "code",
   "execution_count": 7,
   "metadata": {},
   "outputs": [],
   "source": [
    "# user just have preferences \n",
    "user1_pref = {\"AI\": 1, \"Fitness\" : 4, \"Travel\" : 5}\n",
    "user2_pref = {\"AI\": 3, \"Fitness\" : 1, \"Travel\" : 1}\n",
    "user3_pref = {\"AI\": 3, \"Fitness\" : 1, \"Travel\" : 1}\n",
    "user4_pref = {\"AI\": 3, \"Fitness\" : 1, \"Travel\" : 1}\n",
    "\n",
    "# matrix "
   ]
  },
  {
   "cell_type": "code",
   "execution_count": 11,
   "metadata": {},
   "outputs": [
    {
     "data": {
      "text/plain": [
       "array([[1, 4, 5],\n",
       "       [3, 1, 1],\n",
       "       [3, 1, 1],\n",
       "       [3, 1, 1]])"
      ]
     },
     "execution_count": 11,
     "metadata": {},
     "output_type": "execute_result"
    }
   ],
   "source": [
    "import numpy as np \n",
    "\n",
    "def convert_preferences_to_matrix(users_preferences):\n",
    "    # Get the list of all topics from the user preferences\n",
    "    all_topics = set().union(*users_preferences)\n",
    "\n",
    "    # Create a NumPy matrix from the user preferences\n",
    "    pref_matrix = np.array([[user_pref.get(topic, 0) for topic in all_topics] for user_pref in users_preferences])\n",
    "\n",
    "    return pref_matrix\n",
    "\n",
    "convert_preferences_to_matrix([user1_pref, user2_pref, user3_pref, user4_pref])"
   ]
  },
  {
   "cell_type": "code",
   "execution_count": null,
   "metadata": {},
   "outputs": [],
   "source": [
    "# we need to import "
   ]
  }
 ],
 "metadata": {
  "kernelspec": {
   "display_name": "Python 3",
   "language": "python",
   "name": "python3"
  },
  "language_info": {
   "codemirror_mode": {
    "name": "ipython",
    "version": 3
   },
   "file_extension": ".py",
   "mimetype": "text/x-python",
   "name": "python",
   "nbconvert_exporter": "python",
   "pygments_lexer": "ipython3",
   "version": "3.12.0"
  }
 },
 "nbformat": 4,
 "nbformat_minor": 2
}
